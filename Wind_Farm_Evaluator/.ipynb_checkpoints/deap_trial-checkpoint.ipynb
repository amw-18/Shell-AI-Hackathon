{
 "cells": [
  {
   "cell_type": "code",
   "execution_count": 1,
   "metadata": {},
   "outputs": [],
   "source": [
    "import random\n",
    "import array\n",
    "\n",
    "from deap import base\n",
    "from deap import creator\n",
    "from deap import tools\n",
    "\n",
    "import sys\n",
    "sys.path.insert(1, '/path/to/Wind Farm Evaluator')\n",
    "from Vec_modified import *"
   ]
  },
  {
   "cell_type": "code",
   "execution_count": 2,
   "metadata": {},
   "outputs": [],
   "source": [
    "def get_random_arrangement(n_turbs):\n",
    "\n",
    "    def get_point():\n",
    "        \"\"\"Returns random integer from 50 to 3950 inclusive\"\"\"\n",
    "        return random.uniform(50,3950)\n",
    "\n",
    "\n",
    "    def is_valid(point):\n",
    "        \"\"\"Checks if given point is valid\"\"\"\n",
    "        point = np.array(point)\n",
    "        point = np.reshape(point,(1,2))\n",
    "        # getting array of distances to every other point\n",
    "        dist = np.linalg.norm(turbine_pos - point,axis=1)\n",
    "\n",
    "        return min(dist) > 400   # 400 is the problem constraint\n",
    "\n",
    "    turbine_pos = np.full((n_turbs,2),np.inf)\n",
    "    count = 0\n",
    "    ans = []\n",
    "    while count < n_turbs:\n",
    "        point = [get_point(),get_point()] # x,y\n",
    "        if is_valid(point):\n",
    "            turbine_pos[count,:] = point\n",
    "            ans.extend(list(point))\n",
    "            count += 1\n",
    "\n",
    "    return ans"
   ]
  },
  {
   "cell_type": "code",
   "execution_count": 3,
   "metadata": {},
   "outputs": [],
   "source": [
    "def get_args(n_turbs):\n",
    "    # setting turbine radius\n",
    "    turb_rad = 50.0\n",
    "\n",
    "    # Loading the power curve\n",
    "    power_curve   =  loadPowerCurve('C:/Users/awals/Downloads/Shell AI Hackathon/Shell_Hackathon Dataset/power_curve.csv')\n",
    "\n",
    "    # Loading wind data \n",
    "    years = ['07','08','09','13','14','15','17']\n",
    "    wind_inst_freqs = []\n",
    "    for y in years:\n",
    "        wind_inst_freqs.append(binWindResourceData(f'C:/Users/awals/Downloads/Shell AI Hackathon/Shell_Hackathon Dataset/Wind Data/wind_data_20{y}.csv'))\n",
    "    \n",
    "    # preprocessing the wind data to avoid repeated calculations\n",
    "    n_wind_instances, cos_dir, sin_dir, wind_sped_stacked, C_t = preProcessing(power_curve,n_turbs)\n",
    "\n",
    "    kwargs = {'turb_rad': turb_rad, 'power_curve': power_curve, 'wind_inst_freqs': wind_inst_freqs,\n",
    "            'n_wind_instances': n_wind_instances, 'cos_dir': cos_dir, 'sin_dir': sin_dir, 'wind_sped_stacked': wind_sped_stacked,\n",
    "            'C_t': C_t}\n",
    "\n",
    "    return kwargs\n",
    "\n",
    "def proxi_constraint(turb_coords):\n",
    "    \"\"\"\n",
    "        Function to penalize if proximity contraint is violated.\n",
    "        turb_coords is a 2d numpy array with N (xi,yi) elements.\n",
    "    \"\"\"\n",
    "    proxi_val = 0\n",
    "    for i in range(turb_coords.shape[0]-1):\n",
    "        for j in range(i+1,turb_coords.shape[0]-1):\n",
    "            norm = np.linalg.norm(turb_coords[i]-turb_coords[j])\n",
    "            proxi_val += max(0,400 - norm)\n",
    "    \n",
    "    for turb in turb_coords:\n",
    "        for val in turb:\n",
    "            if val < 50:\n",
    "                proxi_val += 50 - val\n",
    "            elif val > 3950:\n",
    "                proxi_val += val - 3950\n",
    "\n",
    "    return proxi_val\n",
    "\n",
    "\n",
    "def evaluate(individual, n_turbs, turb_rad, power_curve, wind_inst_freqs, n_wind_instances, cos_dir, sin_dir, wind_sped_stacked, C_t):\n",
    "    \"\"\"\n",
    "        Function to return values of both objectives as a tuple\n",
    "    \"\"\"\n",
    "\n",
    "    # rearranging the terms in individual to pass to getAEP\n",
    "    turb_coords = np.array([[individual[i],individual[i+1]] for i in range(0,2*n_turbs-1,2)])\n",
    "\n",
    "    # calculating meanAEP for \n",
    "    mean_AEP = 0\n",
    "    for wind_inst_freq in wind_inst_freqs:\n",
    "        mean_AEP += getAEP(turb_rad, turb_coords, power_curve, wind_inst_freq, n_wind_instances, cos_dir, sin_dir, wind_sped_stacked, C_t)\n",
    "    mean_AEP /= len(wind_inst_freqs)\n",
    "    \n",
    "    proxi_val = proxi_constraint(turb_coords)\n",
    "    \n",
    "    ideal_AEP = 11.297*n_turbs  # 11.297 is the mean score for 1 turbine\n",
    "    \n",
    "    return mean_AEP/ideal_AEP, proxi_val  # First objective should be closest to 1 and second closest to zero\n",
    "\n",
    "def initES(icls, scls, size, FLT_MIN, FLT_MAX, smin, smax):\n",
    "    \"\"\"\n",
    "        Initialization function for an individual\n",
    "    \"\"\"\n",
    "    # initializing an individual\n",
    "    # ind = icls(random.uniform(FLT_MIN, FLT_MAX) for _ in range(size))\n",
    "    ind = icls(get_random_arrangement(size//2))\n",
    "    # initializing the individual's strategy\n",
    "    ind.strategy = scls(random.uniform(smin,smax) for _ in range(size))\n",
    "\n",
    "    return ind"
   ]
  },
  {
   "cell_type": "code",
   "execution_count": 4,
   "metadata": {},
   "outputs": [],
   "source": [
    "n_turbs = 5\n",
    "\n",
    "# creating a multi-objective Fitness criterio, with maximizing first and minimizing second\n",
    "creator.create(\"FitnessMulti\", base.Fitness, weights=(1.0,-1.0)) \n",
    "# creating an individual (potential solution) as a vector of floats with a fitness and a strategy attribute\n",
    "creator.create(\"Individual\", array.array, typecode='d', fitness=creator.FitnessMulti, strategy=None)\n",
    "# defining the strategy attribute as a vector of floats (standard deviation for each dimension)\n",
    "creator.create(\"Strategy\", array.array, typecode=\"d\")\n",
    "\n",
    "# defining initial constraints\n",
    "FLT_MIN = 50\n",
    "FLT_MAX = 3950\n",
    "\n",
    "# defining size of individual and strategy limits\n",
    "N_DIM = n_turbs*2 \n",
    "smin, smax = 10, 100  # min and max value for strategy\n",
    "\n",
    "# creating a toolbox\n",
    "toolbox = base.Toolbox()\n",
    "\n",
    "# registering intiES in the toolbox with an alias \"individual\"\n",
    "toolbox.register(\"individual\", initES, creator.Individual, creator.Strategy, N_DIM, FLT_MIN, FLT_MAX, smin, smax)\n",
    "# registering a 'population' function that will create a population(set) of n individuals (n : parameter)\n",
    "toolbox.register(\"population\", tools.initRepeat, list, toolbox.individual)\n",
    "\n",
    "\n",
    "# SPEA\n",
    "\n",
    "N_CHILD = 50\n",
    "N_PARENT = 5\n",
    "N_ELITE = 5\n",
    "TOURN_SIZE = N_CHILD//N_PARENT\n",
    "\n",
    "\n",
    "Offspring = toolbox.population(n=N_CHILD)\n",
    "\n",
    "MAX_GENS = 100\n",
    "CROSS_PROB = 0.5    # probability of cross for each attribute\n",
    "MUT_PROB = 0.5  # probability of mutation of an individual\n",
    "\n",
    "# calculating kwargs once for repeated use\n",
    "kwargs = get_args(n_turbs)"
   ]
  },
  {
   "cell_type": "code",
   "execution_count": null,
   "metadata": {
    "tags": []
   },
   "outputs": [
    {
     "name": "stdout",
     "output_type": "stream",
     "text": [
      "0*"
     ]
    }
   ],
   "source": [
    "Elite = list()\n",
    "for g in range(MAX_GENS):\n",
    "    # evaluating obj function values for each individual\n",
    "    for ind in Offspring:\n",
    "        ind.fitness.values = evaluate(ind, n_turbs, **kwargs)\n",
    "\n",
    "    # selecting the 5 non-dominated individuals\n",
    "    dominating = tools.selSPEA2(Offspring, N_ELITE)\n",
    "\n",
    "    # adding dominating individuals in Elite\n",
    "    Elite_sel = [toolbox.clone(ind) for ind in dominating]\n",
    "    Elite.extend(Elite_sel)\n",
    "\n",
    "    # reducing the size of Elite\n",
    "    Elite = tools.selSPEA2(Elite, N_ELITE)\n",
    "\n",
    "    # creating the parent population by tournament selection\n",
    "    Parent_sel = tools.selTournament(Offspring, N_PARENT, TOURN_SIZE, fit_attr='fitness')\n",
    "    Parent = [toolbox.clone(ind) for ind in Parent_sel]\n",
    "\n",
    "    # doing uniform cross-over and mutating\n",
    "    Offspring = []\n",
    "    for i in range(N_CHILD//2):\n",
    "        ind1, ind2 = map(toolbox.clone, tools.selRandom(Parent,2))\n",
    "        child1, child2 = tools.cxUniform(ind1, ind2, CROSS_PROB)\n",
    "        for child in [child1, child2]:\n",
    "            Offspring.append(tools.mutESLogNormal(child, 1, MUT_PROB)[0]) # returns tuple so [0]\n",
    "\n",
    "    if g%10 == 0:\n",
    "        print(g,end='')\n",
    "    else:\n",
    "        print('*',end='')"
   ]
  },
  {
   "cell_type": "code",
   "execution_count": 6,
   "metadata": {},
   "outputs": [],
   "source": [
    "for ind in Offspring:\n",
    "    ind.fitness.values = evaluate(ind, n_turbs, **kwargs)\n",
    "\n",
    "# selecting the 5 non-dominated individuals\n",
    "dominating = tools.selSPEA2(Offspring, N_ELITE)\n",
    "\n",
    "# adding dominating individuals in Elite\n",
    "Elite_sel = [toolbox.clone(ind) for ind in dominating]\n",
    "Elite.extend(Elite_sel)\n",
    "\n",
    "# reducing the size of Elite\n",
    "Elite = tools.selSPEA2(Elite_sel, N_ELITE)"
   ]
  },
  {
   "cell_type": "code",
   "execution_count": 7,
   "metadata": {
    "tags": []
   },
   "outputs": [
    {
     "name": "stdout",
     "output_type": "stream",
     "text": [
      "56.40699451446533 0.0\n",
      "56.40699451446533 0.0\n",
      "56.40699451446533 0.0\n",
      "56.40699451446533 0.0\n",
      "56.40699451446533 0.0\n"
     ]
    }
   ],
   "source": [
    "for ind in Elite:\n",
    "    print(ind.fitness.values[0]*11.297*n_turbs, ind.fitness.values[1])"
   ]
  },
  {
   "cell_type": "code",
   "execution_count": 8,
   "metadata": {
    "tags": []
   },
   "outputs": [
    {
     "name": "stdout",
     "output_type": "stream",
     "text": [
      "56.485\n"
     ]
    }
   ],
   "source": [
    "print(11.297*n_turbs)"
   ]
  }
 ],
 "metadata": {
  "kernelspec": {
   "display_name": "Python 3.7.7 64-bit ('dsenv': conda)",
   "language": "python",
   "name": "python37764bitdsenvconda789706d0dc444dadb284d7d6b95e5ae4"
  },
  "language_info": {
   "codemirror_mode": {
    "name": "ipython",
    "version": 3
   },
   "file_extension": ".py",
   "mimetype": "text/x-python",
   "name": "python",
   "nbconvert_exporter": "python",
   "pygments_lexer": "ipython3",
   "version": "3.7.7"
  }
 },
 "nbformat": 4,
 "nbformat_minor": 2
}
