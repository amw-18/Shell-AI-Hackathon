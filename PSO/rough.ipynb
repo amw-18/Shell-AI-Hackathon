{
 "metadata": {
  "language_info": {
   "codemirror_mode": {
    "name": "ipython",
    "version": 3
   },
   "file_extension": ".py",
   "mimetype": "text/x-python",
   "name": "python",
   "nbconvert_exporter": "python",
   "pygments_lexer": "ipython3",
   "version": "3.7.7-final"
  },
  "orig_nbformat": 2,
  "kernelspec": {
   "name": "Python 3.7.7 64-bit ('dsenv': conda)",
   "display_name": "Python 3.7.7 64-bit ('dsenv': conda)",
   "metadata": {
    "interpreter": {
     "hash": "59dfa7771b5625019fdc13c6b139916ed136e1d5f9bb81b4dff69d6a0419b4bf"
    }
   }
  }
 },
 "nbformat": 4,
 "nbformat_minor": 2,
 "cells": [
  {
   "cell_type": "code",
   "execution_count": 1,
   "metadata": {},
   "outputs": [],
   "source": [
    "import numpy as np "
   ]
  },
  {
   "cell_type": "code",
   "execution_count": 11,
   "metadata": {},
   "outputs": [
    {
     "output_type": "execute_result",
     "data": {
      "text/plain": [
       "array([[1, 2],\n",
       "       [3, 4]])"
      ]
     },
     "metadata": {},
     "execution_count": 11
    }
   ],
   "source": [
    "a = np.array([[1, 2], [3, 4]])\n",
    "a"
   ]
  },
  {
   "cell_type": "code",
   "execution_count": 13,
   "metadata": {},
   "outputs": [
    {
     "output_type": "execute_result",
     "data": {
      "text/plain": [
       "array([[1, 2],\n",
       "       [3, 4],\n",
       "       [1, 2],\n",
       "       [3, 4]])"
      ]
     },
     "metadata": {},
     "execution_count": 13
    }
   ],
   "source": [
    "np.append(a, [[1, 2], [3, 4]]).reshape(4, 2)"
   ]
  },
  {
   "cell_type": "code",
   "execution_count": 4,
   "metadata": {},
   "outputs": [],
   "source": [
    "b = np.append(a, [4, 5])"
   ]
  },
  {
   "cell_type": "code",
   "execution_count": 5,
   "metadata": {},
   "outputs": [
    {
     "output_type": "execute_result",
     "data": {
      "text/plain": [
       "array([1, 2, 3, 4, 5])"
      ]
     },
     "metadata": {},
     "execution_count": 5
    }
   ],
   "source": [
    "b"
   ]
  },
  {
   "cell_type": "code",
   "execution_count": 7,
   "metadata": {},
   "outputs": [
    {
     "output_type": "execute_result",
     "data": {
      "text/plain": [
       "array([1, 2, 3])"
      ]
     },
     "metadata": {},
     "execution_count": 7
    }
   ],
   "source": [
    "b[0] = 0\n",
    "a"
   ]
  },
  {
   "cell_type": "code",
   "execution_count": 30,
   "metadata": {},
   "outputs": [
    {
     "output_type": "execute_result",
     "data": {
      "text/plain": "array([7, 7, 8, 7])"
     },
     "metadata": {},
     "execution_count": 30
    }
   ],
   "source": [
    "np.random.randint(7,9,4)"
   ]
  },
  {
   "cell_type": "code",
   "execution_count": 2,
   "metadata": {
    "tags": []
   },
   "outputs": [
    {
     "output_type": "stream",
     "name": "stdout",
     "text": "[[1 1]] [[1 1]\n [2 2]\n [3 3]]\n"
    }
   ],
   "source": [
    "a = np.array([[1, 1]])\n",
    "b = np.array([[1, 1], [2, 2], [3, 3]])\n",
    "print(a, b)"
   ]
  },
  {
   "cell_type": "code",
   "execution_count": 1,
   "metadata": {},
   "outputs": [],
   "source": [
    "import pandas as pd"
   ]
  },
  {
   "cell_type": "code",
   "execution_count": 8,
   "metadata": {},
   "outputs": [
    {
     "output_type": "execute_result",
     "data": {
      "text/plain": "array([1, 2, 3])"
     },
     "metadata": {},
     "execution_count": 8
    }
   ],
   "source": [
    "np.array(np.array([1, 2, 3]))"
   ]
  },
  {
   "cell_type": "code",
   "execution_count": 3,
   "metadata": {},
   "outputs": [
    {
     "output_type": "execute_result",
     "data": {
      "text/plain": "array([0.        , 1.41421356, 2.82842712])"
     },
     "metadata": {},
     "execution_count": 3
    }
   ],
   "source": [
    "np.linalg.norm(b - a,axis=1)"
   ]
  },
  {
   "cell_type": "code",
   "execution_count": 4,
   "metadata": {},
   "outputs": [
    {
     "output_type": "execute_result",
     "data": {
      "text/plain": "array([[1, 1],\n       [2, 2],\n       [1, 1]])"
     },
     "metadata": {},
     "execution_count": 4
    }
   ],
   "source": [
    "b[2,:] = a\n",
    "b"
   ]
  },
  {
   "cell_type": "code",
   "execution_count": 5,
   "metadata": {},
   "outputs": [
    {
     "output_type": "execute_result",
     "data": {
      "text/plain": "array([1, 1, 2, 2, 1, 1])"
     },
     "metadata": {},
     "execution_count": 5
    }
   ],
   "source": [
    "c = b.flatten()\n",
    "c"
   ]
  },
  {
   "cell_type": "code",
   "execution_count": 6,
   "metadata": {},
   "outputs": [
    {
     "output_type": "execute_result",
     "data": {
      "text/plain": "array([[1, 1],\n       [2, 2],\n       [1, 1]])"
     },
     "metadata": {},
     "execution_count": 6
    }
   ],
   "source": [
    "c.reshape((3,2))"
   ]
  },
  {
   "cell_type": "code",
   "execution_count": 7,
   "metadata": {},
   "outputs": [
    {
     "output_type": "execute_result",
     "data": {
      "text/plain": "array([ 734.48139515, 3862.51395608])"
     },
     "metadata": {},
     "execution_count": 7
    }
   ],
   "source": [
    "np.random.uniform(50,3950,2)"
   ]
  },
  {
   "cell_type": "code",
   "execution_count": 11,
   "metadata": {},
   "outputs": [
    {
     "output_type": "execute_result",
     "data": {
      "text/plain": "array([1, 2, 3, 4])"
     },
     "metadata": {},
     "execution_count": 11
    }
   ],
   "source": [
    "a = np.array([1, 2, 3, 4])\n",
    "c = np.array(a.reshape((2,2)))\n",
    "c[:,1] = [0, 0]\n",
    "a"
   ]
  },
  {
   "cell_type": "code",
   "execution_count": 12,
   "metadata": {},
   "outputs": [
    {
     "output_type": "execute_result",
     "data": {
      "text/plain": "array([[1, 0],\n       [3, 0]])"
     },
     "metadata": {},
     "execution_count": 12
    }
   ],
   "source": [
    "c"
   ]
  },
  {
   "cell_type": "code",
   "execution_count": 4,
   "metadata": {},
   "outputs": [],
   "source": [
    "best_pos = \"\"\" 50.   \n",
    "       514.8505663    50.00154409  917.0329181    50.15718493\n",
    " 1338.03639303   50.00236155 1825.54093887   50.         2245.86900148\n",
    "   50.71689549 2678.4081447    50.63727104 3088.52125099   50.2004677\n",
    " 3518.39962095 3950.          479.7821211  3950.          917.89256708\n",
    " 3950.         1349.83354777 3950.         1815.00765515 3950.\n",
    " 2219.35837379 3950.         2639.98456778 3950.         3046.79304796\n",
    " 3950.         3525.35691789   50.00027331 3950.          519.73573306\n",
    " 3950.          931.77505063 3950.         1336.74412442 3950.\n",
    " 1763.03428185 3950.         2227.56032673 3950.         2646.9152007\n",
    " 3950.         3076.24198159 3950.         3486.56619909 3950.\n",
    " 3950.         3950.           50.           50.34932334  476.81023011\n",
    "   50.30026481  901.3348141    50.02139791 1326.98058223   50.36030804\n",
    " 1809.95531264   50.         2230.13154491   50.04762471 2639.13858733\n",
    "   50.         3065.51537044   50.02906902 3478.72266201   50.00477579\n",
    " 3950.           50.0019506  1573.19151544 1581.04854097 2408.78779162\n",
    " 2435.96648554\"\"\""
   ]
  },
  {
   "cell_type": "code",
   "execution_count": 5,
   "metadata": {
    "tags": []
   },
   "outputs": [
    {
     "output_type": "execute_result",
     "data": {
      "text/plain": [
       "           x            y\n",
       "0  50.000000   514.850566\n",
       "1  50.001544   917.032918\n",
       "2  50.157185  1338.036393\n",
       "3  50.002362  1825.540939\n",
       "4  50.000000  2245.869001"
      ],
      "text/html": "<div>\n<style scoped>\n    .dataframe tbody tr th:only-of-type {\n        vertical-align: middle;\n    }\n\n    .dataframe tbody tr th {\n        vertical-align: top;\n    }\n\n    .dataframe thead th {\n        text-align: right;\n    }\n</style>\n<table border=\"1\" class=\"dataframe\">\n  <thead>\n    <tr style=\"text-align: right;\">\n      <th></th>\n      <th>x</th>\n      <th>y</th>\n    </tr>\n  </thead>\n  <tbody>\n    <tr>\n      <th>0</th>\n      <td>50.000000</td>\n      <td>514.850566</td>\n    </tr>\n    <tr>\n      <th>1</th>\n      <td>50.001544</td>\n      <td>917.032918</td>\n    </tr>\n    <tr>\n      <th>2</th>\n      <td>50.157185</td>\n      <td>1338.036393</td>\n    </tr>\n    <tr>\n      <th>3</th>\n      <td>50.002362</td>\n      <td>1825.540939</td>\n    </tr>\n    <tr>\n      <th>4</th>\n      <td>50.000000</td>\n      <td>2245.869001</td>\n    </tr>\n  </tbody>\n</table>\n</div>"
     },
     "metadata": {},
     "execution_count": 5
    }
   ],
   "source": [
    "pos = best_pos.replace('\\n', ' ').split(' ')\n",
    "ans = []\n",
    "for val in pos:\n",
    "    if val != '':\n",
    "        ans.append(float(val))\n",
    "import numpy as np \n",
    "ans = np.array(ans).reshape((38, 2))\n",
    "import pandas as pd \n",
    "turbines = pd.DataFrame(ans,columns=['x','y'])\n",
    "turbines.head()"
   ]
  },
  {
   "cell_type": "code",
   "execution_count": 6,
   "metadata": {},
   "outputs": [],
   "source": [
    "# turbines.to_csv(\"C:/Users/awals/Downloads/Shell AI Hackathon/PSO/brute_force2.csv\",index=False)"
   ]
  },
  {
   "cell_type": "code",
   "execution_count": 22,
   "metadata": {},
   "outputs": [],
   "source": [
    "def proxi_constraint(particle):\n",
    "    \"\"\"\n",
    "        Function to penalize if proximity contraint is violated.\n",
    "        particle : numpy array with shape (n_turbs, 2)\n",
    "    \"\"\"\n",
    "    proxi_penalty = 0\n",
    "    for i in range(particle.shape[0]-1):  \n",
    "        for j in range(i+1,particle.shape[0]):\n",
    "            norm = np.linalg.norm(particle[i]-particle[j])\n",
    "            if norm < 400: print(particle[i],particle[j])\n",
    "            proxi_penalty += max(0, 400-norm)  # linear penalty \n",
    "            \n",
    "    return proxi_penalty/(particle.shape[0]*400)    # dividing to normalize the value to between 0 and 1"
   ]
  },
  {
   "cell_type": "code",
   "execution_count": 24,
   "metadata": {},
   "outputs": [
    {
     "output_type": "stream",
     "name": "stdout",
     "text": [
      "[1337.3326655  3949.99999995] [1288.20161423 3553.25275135]\n"
     ]
    },
    {
     "output_type": "execute_result",
     "data": {
      "text/plain": [
       "1.1113120625896045e-05"
      ]
     },
     "metadata": {},
     "execution_count": 24
    }
   ],
   "source": [
    "ans = np.array(pd.read_csv('C:/Users/awals/Downloads/Shell AI Hackathon/Trials/opt_swarm_ans1_9.csv')).reshape((50,2))\n",
    "proxi_constraint(ans)"
   ]
  },
  {
   "cell_type": "code",
   "execution_count": 9,
   "metadata": {},
   "outputs": [
    {
     "output_type": "execute_result",
     "data": {
      "text/plain": [
       "array([0., 0., 0., 0., 0.])"
      ]
     },
     "metadata": {},
     "execution_count": 9
    }
   ],
   "source": [
    "a = np.array([1, 2, 3, 4])\n",
    "b = np.array([4, 3, 2, 1])\n",
    "(a+b)/np.sum(a+b)\n",
    "np.zeros((5,))"
   ]
  }
 ]
}