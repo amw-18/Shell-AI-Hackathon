{
 "metadata": {
  "language_info": {
   "codemirror_mode": {
    "name": "ipython",
    "version": 3
   },
   "file_extension": ".py",
   "mimetype": "text/x-python",
   "name": "python",
   "nbconvert_exporter": "python",
   "pygments_lexer": "ipython3",
   "version": "3.7.7-final"
  },
  "orig_nbformat": 2,
  "kernelspec": {
   "name": "Python 3.7.7 64-bit",
   "display_name": "Python 3.7.7 64-bit",
   "metadata": {
    "interpreter": {
     "hash": "59dfa7771b5625019fdc13c6b139916ed136e1d5f9bb81b4dff69d6a0419b4bf"
    }
   }
  }
 },
 "nbformat": 4,
 "nbformat_minor": 2,
 "cells": [
  {
   "cell_type": "code",
   "execution_count": 1,
   "metadata": {},
   "outputs": [],
   "source": [
    "import numpy as np "
   ]
  },
  {
   "cell_type": "code",
   "execution_count": 11,
   "metadata": {},
   "outputs": [
    {
     "output_type": "execute_result",
     "data": {
      "text/plain": [
       "array([[1, 2],\n",
       "       [3, 4]])"
      ]
     },
     "metadata": {},
     "execution_count": 11
    }
   ],
   "source": [
    "a = np.array([[1, 2], [3, 4]])\n",
    "a"
   ]
  },
  {
   "cell_type": "code",
   "execution_count": 13,
   "metadata": {},
   "outputs": [
    {
     "output_type": "execute_result",
     "data": {
      "text/plain": [
       "array([[1, 2],\n",
       "       [3, 4],\n",
       "       [1, 2],\n",
       "       [3, 4]])"
      ]
     },
     "metadata": {},
     "execution_count": 13
    }
   ],
   "source": [
    "np.append(a, [[1, 2], [3, 4]]).reshape(4, 2)"
   ]
  },
  {
   "cell_type": "code",
   "execution_count": 4,
   "metadata": {},
   "outputs": [],
   "source": [
    "b = np.append(a, [4, 5])"
   ]
  },
  {
   "cell_type": "code",
   "execution_count": 5,
   "metadata": {},
   "outputs": [
    {
     "output_type": "execute_result",
     "data": {
      "text/plain": [
       "array([1, 2, 3, 4, 5])"
      ]
     },
     "metadata": {},
     "execution_count": 5
    }
   ],
   "source": [
    "b"
   ]
  },
  {
   "cell_type": "code",
   "execution_count": 7,
   "metadata": {},
   "outputs": [
    {
     "output_type": "execute_result",
     "data": {
      "text/plain": [
       "array([1, 2, 3])"
      ]
     },
     "metadata": {},
     "execution_count": 7
    }
   ],
   "source": [
    "b[0] = 0\n",
    "a"
   ]
  },
  {
   "cell_type": "code",
   "execution_count": 30,
   "metadata": {},
   "outputs": [
    {
     "output_type": "execute_result",
     "data": {
      "text/plain": "array([7, 7, 8, 7])"
     },
     "metadata": {},
     "execution_count": 30
    }
   ],
   "source": [
    "np.random.randint(7,9,4)"
   ]
  },
  {
   "cell_type": "code",
   "execution_count": 2,
   "metadata": {
    "tags": []
   },
   "outputs": [
    {
     "output_type": "stream",
     "name": "stdout",
     "text": "[[1 1]] [[1 1]\n [2 2]\n [3 3]]\n"
    }
   ],
   "source": [
    "a = np.array([[1, 1]])\n",
    "b = np.array([[1, 1], [2, 2], [3, 3]])\n",
    "print(a, b)"
   ]
  },
  {
   "cell_type": "code",
   "execution_count": 1,
   "metadata": {},
   "outputs": [],
   "source": [
    "import pandas as pd"
   ]
  },
  {
   "cell_type": "code",
   "execution_count": 8,
   "metadata": {},
   "outputs": [
    {
     "output_type": "execute_result",
     "data": {
      "text/plain": "array([1, 2, 3])"
     },
     "metadata": {},
     "execution_count": 8
    }
   ],
   "source": [
    "np.array(np.array([1, 2, 3]))"
   ]
  },
  {
   "cell_type": "code",
   "execution_count": 3,
   "metadata": {},
   "outputs": [
    {
     "output_type": "execute_result",
     "data": {
      "text/plain": "array([0.        , 1.41421356, 2.82842712])"
     },
     "metadata": {},
     "execution_count": 3
    }
   ],
   "source": [
    "np.linalg.norm(b - a,axis=1)"
   ]
  },
  {
   "cell_type": "code",
   "execution_count": 4,
   "metadata": {},
   "outputs": [
    {
     "output_type": "execute_result",
     "data": {
      "text/plain": "array([[1, 1],\n       [2, 2],\n       [1, 1]])"
     },
     "metadata": {},
     "execution_count": 4
    }
   ],
   "source": [
    "b[2,:] = a\n",
    "b"
   ]
  },
  {
   "cell_type": "code",
   "execution_count": 5,
   "metadata": {},
   "outputs": [
    {
     "output_type": "execute_result",
     "data": {
      "text/plain": "array([1, 1, 2, 2, 1, 1])"
     },
     "metadata": {},
     "execution_count": 5
    }
   ],
   "source": [
    "c = b.flatten()\n",
    "c"
   ]
  },
  {
   "cell_type": "code",
   "execution_count": 6,
   "metadata": {},
   "outputs": [
    {
     "output_type": "execute_result",
     "data": {
      "text/plain": "array([[1, 1],\n       [2, 2],\n       [1, 1]])"
     },
     "metadata": {},
     "execution_count": 6
    }
   ],
   "source": [
    "c.reshape((3,2))"
   ]
  },
  {
   "cell_type": "code",
   "execution_count": 7,
   "metadata": {},
   "outputs": [
    {
     "output_type": "execute_result",
     "data": {
      "text/plain": "array([ 734.48139515, 3862.51395608])"
     },
     "metadata": {},
     "execution_count": 7
    }
   ],
   "source": [
    "np.random.uniform(50,3950,2)"
   ]
  },
  {
   "cell_type": "code",
   "execution_count": 11,
   "metadata": {},
   "outputs": [
    {
     "output_type": "execute_result",
     "data": {
      "text/plain": "array([1, 2, 3, 4])"
     },
     "metadata": {},
     "execution_count": 11
    }
   ],
   "source": [
    "a = np.array([1, 2, 3, 4])\n",
    "c = np.array(a.reshape((2,2)))\n",
    "c[:,1] = [0, 0]\n",
    "a"
   ]
  },
  {
   "cell_type": "code",
   "execution_count": 12,
   "metadata": {},
   "outputs": [
    {
     "output_type": "execute_result",
     "data": {
      "text/plain": "array([[1, 0],\n       [3, 0]])"
     },
     "metadata": {},
     "execution_count": 12
    }
   ],
   "source": [
    "c"
   ]
  },
  {
   "cell_type": "code",
   "execution_count": 1,
   "metadata": {},
   "outputs": [],
   "source": [
    "best_pos=\"\"\"  50.       \n",
    "   483.33331602   50.          916.66667087   50.\n",
    " 1349.9999895    50.         1783.33346653   50.         2216.66661144\n",
    "   50.         2649.99968879   50.         3083.33292174   50.\n",
    " 3516.66669214 3950.          483.32524849 3950.          916.66573552\n",
    " 3950.         1349.99995059 3950.         1783.33297822 3950.\n",
    " 2216.66649955 3950.         2650.00000409 3950.         3083.3326742\n",
    " 3950.         3516.66665652   50.         3950.          483.3327918\n",
    " 3950.          916.66689002 3950.         1350.00000409 3950.\n",
    " 1783.32825436 3950.         2216.66666316 3950.         2650.00336439\n",
    " 3950.         3083.44081166 3950.         3516.66679804 3950.\n",
    " 3950.         3950.           50.           50.          483.33326935\n",
    "   50.          916.66322185   50.         1349.98949031   50.\n",
    " 1783.33332064   50.         2216.66717313   50.         2649.99992704\n",
    "   50.         3083.3336014    50.         3516.6656257    50.\n",
    " 3950.           50.         3125.63698403 2480.06032884 2248.07619151\n",
    " 1432.99826846 3280.96779146 1126.61282564 1327.91418626 3189.24671141\n",
    " 3168.65972987 3332.52627251 1359.7557589  2481.00134176 1076.73445696\n",
    " 1811.45467224 2431.70069889 3071.00328921 2903.10162411  806.20810177\n",
    " 1770.53245997 2815.02510609 1352.6164944   746.0504991  1492.04026914\n",
    " 1735.96995453  660.78966346 2551.31447877 2730.97850088 1988.17022847\"\"\""
   ]
  },
  {
   "cell_type": "code",
   "execution_count": 2,
   "metadata": {
    "tags": []
   },
   "outputs": [
    {
     "output_type": "execute_result",
     "data": {
      "text/plain": [
       "      x            y\n",
       "0  50.0   483.333316\n",
       "1  50.0   916.666671\n",
       "2  50.0  1349.999990\n",
       "3  50.0  1783.333467\n",
       "4  50.0  2216.666611"
      ],
      "text/html": "<div>\n<style scoped>\n    .dataframe tbody tr th:only-of-type {\n        vertical-align: middle;\n    }\n\n    .dataframe tbody tr th {\n        vertical-align: top;\n    }\n\n    .dataframe thead th {\n        text-align: right;\n    }\n</style>\n<table border=\"1\" class=\"dataframe\">\n  <thead>\n    <tr style=\"text-align: right;\">\n      <th></th>\n      <th>x</th>\n      <th>y</th>\n    </tr>\n  </thead>\n  <tbody>\n    <tr>\n      <th>0</th>\n      <td>50.0</td>\n      <td>483.333316</td>\n    </tr>\n    <tr>\n      <th>1</th>\n      <td>50.0</td>\n      <td>916.666671</td>\n    </tr>\n    <tr>\n      <th>2</th>\n      <td>50.0</td>\n      <td>1349.999990</td>\n    </tr>\n    <tr>\n      <th>3</th>\n      <td>50.0</td>\n      <td>1783.333467</td>\n    </tr>\n    <tr>\n      <th>4</th>\n      <td>50.0</td>\n      <td>2216.666611</td>\n    </tr>\n  </tbody>\n</table>\n</div>"
     },
     "metadata": {},
     "execution_count": 2
    }
   ],
   "source": [
    "pos = best_pos.replace('\\n', ' ').split(' ')\n",
    "ans = []\n",
    "for val in pos:\n",
    "    if val != '':\n",
    "        ans.append(float(val))\n",
    "import numpy as np \n",
    "ans = np.array(ans).reshape((50, 2))\n",
    "import pandas as pd \n",
    "turbines = pd.DataFrame(ans,columns=['x','y'])\n",
    "turbines.head()"
   ]
  },
  {
   "cell_type": "code",
   "execution_count": 3,
   "metadata": {},
   "outputs": [],
   "source": [
    "# turbines.to_csv(\"C:/Users/awals/Downloads/Shell AI Hackathon/Trials/trial0.csv\",index=False)"
   ]
  },
  {
   "cell_type": "code",
   "execution_count": 22,
   "metadata": {},
   "outputs": [],
   "source": [
    "def proxi_constraint(particle):\n",
    "    \"\"\"\n",
    "        Function to penalize if proximity contraint is violated.\n",
    "        particle : numpy array with shape (n_turbs, 2)\n",
    "    \"\"\"\n",
    "    proxi_penalty = 0\n",
    "    for i in range(particle.shape[0]-1):  \n",
    "        for j in range(i+1,particle.shape[0]):\n",
    "            norm = np.linalg.norm(particle[i]-particle[j])\n",
    "            if norm < 400: print(particle[i],particle[j])\n",
    "            proxi_penalty += max(0, 400-norm)  # linear penalty \n",
    "            \n",
    "    return proxi_penalty/(particle.shape[0]*400)    # dividing to normalize the value to between 0 and 1"
   ]
  },
  {
   "cell_type": "code",
   "execution_count": 24,
   "metadata": {},
   "outputs": [
    {
     "output_type": "stream",
     "name": "stdout",
     "text": [
      "[1337.3326655  3949.99999995] [1288.20161423 3553.25275135]\n"
     ]
    },
    {
     "output_type": "execute_result",
     "data": {
      "text/plain": [
       "1.1113120625896045e-05"
      ]
     },
     "metadata": {},
     "execution_count": 24
    }
   ],
   "source": [
    "ans = np.array(pd.read_csv('C:/Users/awals/Downloads/Shell AI Hackathon/Trials/opt_swarm_ans1_9.csv')).reshape((50,2))\n",
    "proxi_constraint(ans)"
   ]
  },
  {
   "cell_type": "code",
   "execution_count": 9,
   "metadata": {},
   "outputs": [
    {
     "output_type": "execute_result",
     "data": {
      "text/plain": [
       "array([0., 0., 0., 0., 0.])"
      ]
     },
     "metadata": {},
     "execution_count": 9
    }
   ],
   "source": [
    "a = np.array([1, 2, 3, 4])\n",
    "b = np.array([4, 3, 2, 1])\n",
    "(a+b)/np.sum(a+b)\n",
    "np.zeros((5,))"
   ]
  }
 ]
}