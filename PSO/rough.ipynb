{
 "metadata": {
  "language_info": {
   "codemirror_mode": {
    "name": "ipython",
    "version": 3
   },
   "file_extension": ".py",
   "mimetype": "text/x-python",
   "name": "python",
   "nbconvert_exporter": "python",
   "pygments_lexer": "ipython3",
   "version": "3.7.7-final"
  },
  "orig_nbformat": 2,
  "kernelspec": {
   "name": "Python 3.7.7 64-bit ('dsenv': conda)",
   "display_name": "Python 3.7.7 64-bit ('dsenv': conda)",
   "metadata": {
    "interpreter": {
     "hash": "59dfa7771b5625019fdc13c6b139916ed136e1d5f9bb81b4dff69d6a0419b4bf"
    }
   }
  }
 },
 "nbformat": 4,
 "nbformat_minor": 2,
 "cells": [
  {
   "cell_type": "code",
   "execution_count": 1,
   "metadata": {},
   "outputs": [],
   "source": [
    "import numpy as np "
   ]
  },
  {
   "cell_type": "code",
   "execution_count": 11,
   "metadata": {},
   "outputs": [
    {
     "output_type": "execute_result",
     "data": {
      "text/plain": [
       "array([[1, 2],\n",
       "       [3, 4]])"
      ]
     },
     "metadata": {},
     "execution_count": 11
    }
   ],
   "source": [
    "a = np.array([[1, 2], [3, 4]])\n",
    "a"
   ]
  },
  {
   "cell_type": "code",
   "execution_count": 13,
   "metadata": {},
   "outputs": [
    {
     "output_type": "execute_result",
     "data": {
      "text/plain": [
       "array([[1, 2],\n",
       "       [3, 4],\n",
       "       [1, 2],\n",
       "       [3, 4]])"
      ]
     },
     "metadata": {},
     "execution_count": 13
    }
   ],
   "source": [
    "np.append(a, [[1, 2], [3, 4]]).reshape(4, 2)"
   ]
  },
  {
   "cell_type": "code",
   "execution_count": 4,
   "metadata": {},
   "outputs": [],
   "source": [
    "b = np.append(a, [4, 5])"
   ]
  },
  {
   "cell_type": "code",
   "execution_count": 5,
   "metadata": {},
   "outputs": [
    {
     "output_type": "execute_result",
     "data": {
      "text/plain": [
       "array([1, 2, 3, 4, 5])"
      ]
     },
     "metadata": {},
     "execution_count": 5
    }
   ],
   "source": [
    "b"
   ]
  },
  {
   "cell_type": "code",
   "execution_count": 7,
   "metadata": {},
   "outputs": [
    {
     "output_type": "execute_result",
     "data": {
      "text/plain": [
       "array([1, 2, 3])"
      ]
     },
     "metadata": {},
     "execution_count": 7
    }
   ],
   "source": [
    "b[0] = 0\n",
    "a"
   ]
  },
  {
   "cell_type": "code",
   "execution_count": 30,
   "metadata": {},
   "outputs": [
    {
     "output_type": "execute_result",
     "data": {
      "text/plain": "array([7, 7, 8, 7])"
     },
     "metadata": {},
     "execution_count": 30
    }
   ],
   "source": [
    "np.random.randint(7,9,4)"
   ]
  },
  {
   "cell_type": "code",
   "execution_count": 2,
   "metadata": {
    "tags": []
   },
   "outputs": [
    {
     "output_type": "stream",
     "name": "stdout",
     "text": "[[1 1]] [[1 1]\n [2 2]\n [3 3]]\n"
    }
   ],
   "source": [
    "a = np.array([[1, 1]])\n",
    "b = np.array([[1, 1], [2, 2], [3, 3]])\n",
    "print(a, b)"
   ]
  },
  {
   "cell_type": "code",
   "execution_count": 1,
   "metadata": {},
   "outputs": [],
   "source": [
    "import pandas as pd"
   ]
  },
  {
   "cell_type": "code",
   "execution_count": 8,
   "metadata": {},
   "outputs": [
    {
     "output_type": "execute_result",
     "data": {
      "text/plain": "array([1, 2, 3])"
     },
     "metadata": {},
     "execution_count": 8
    }
   ],
   "source": [
    "np.array(np.array([1, 2, 3]))"
   ]
  },
  {
   "cell_type": "code",
   "execution_count": 3,
   "metadata": {},
   "outputs": [
    {
     "output_type": "execute_result",
     "data": {
      "text/plain": "array([0.        , 1.41421356, 2.82842712])"
     },
     "metadata": {},
     "execution_count": 3
    }
   ],
   "source": [
    "np.linalg.norm(b - a,axis=1)"
   ]
  },
  {
   "cell_type": "code",
   "execution_count": 4,
   "metadata": {},
   "outputs": [
    {
     "output_type": "execute_result",
     "data": {
      "text/plain": "array([[1, 1],\n       [2, 2],\n       [1, 1]])"
     },
     "metadata": {},
     "execution_count": 4
    }
   ],
   "source": [
    "b[2,:] = a\n",
    "b"
   ]
  },
  {
   "cell_type": "code",
   "execution_count": 5,
   "metadata": {},
   "outputs": [
    {
     "output_type": "execute_result",
     "data": {
      "text/plain": "array([1, 1, 2, 2, 1, 1])"
     },
     "metadata": {},
     "execution_count": 5
    }
   ],
   "source": [
    "c = b.flatten()\n",
    "c"
   ]
  },
  {
   "cell_type": "code",
   "execution_count": 6,
   "metadata": {},
   "outputs": [
    {
     "output_type": "execute_result",
     "data": {
      "text/plain": "array([[1, 1],\n       [2, 2],\n       [1, 1]])"
     },
     "metadata": {},
     "execution_count": 6
    }
   ],
   "source": [
    "c.reshape((3,2))"
   ]
  },
  {
   "cell_type": "code",
   "execution_count": 7,
   "metadata": {},
   "outputs": [
    {
     "output_type": "execute_result",
     "data": {
      "text/plain": "array([ 734.48139515, 3862.51395608])"
     },
     "metadata": {},
     "execution_count": 7
    }
   ],
   "source": [
    "np.random.uniform(50,3950,2)"
   ]
  },
  {
   "cell_type": "code",
   "execution_count": 11,
   "metadata": {},
   "outputs": [
    {
     "output_type": "execute_result",
     "data": {
      "text/plain": "array([1, 2, 3, 4])"
     },
     "metadata": {},
     "execution_count": 11
    }
   ],
   "source": [
    "a = np.array([1, 2, 3, 4])\n",
    "c = np.array(a.reshape((2,2)))\n",
    "c[:,1] = [0, 0]\n",
    "a"
   ]
  },
  {
   "cell_type": "code",
   "execution_count": 12,
   "metadata": {},
   "outputs": [
    {
     "output_type": "execute_result",
     "data": {
      "text/plain": "array([[1, 0],\n       [3, 0]])"
     },
     "metadata": {},
     "execution_count": 12
    }
   ],
   "source": [
    "c"
   ]
  },
  {
   "cell_type": "code",
   "execution_count": 1,
   "metadata": {},
   "outputs": [],
   "source": [
    "best_pos = \"\"\" 50.01175185  495.56381299   50.05250137  921.13091863   51.60207214\n",
    " 1340.21820359   52.97046221 1771.78445434   50.39610854 2215.85447723\n",
    "   50.34076082 2618.97350626   50.02088251 3105.96845389   50.548929\n",
    " 3541.55550112 3950.          512.52390004 3950.          920.43023295\n",
    " 3950.         1325.27808866 3950.         1800.09965661 3950.\n",
    " 2204.13195472 3950.         2640.50835378 3950.         3051.47853195\n",
    " 3950.         3470.47779694   50.10581092 3950.          513.80694996\n",
    " 3950.          975.68060655 3950.         1398.20527087 3949.75475801\n",
    " 1809.01227979 3950.         2220.99293393 3950.         2664.57427245\n",
    " 3950.         3073.93431999 3950.         3516.5280437  3950.\n",
    " 3950.         3950.           50.37141636   50.10022429  487.64232328\n",
    "   50.53268364  899.19301278   50.30074272 1338.12934721   50.\n",
    " 1772.86356925   50.23067644 2181.73496117   50.27797284 2696.91797314\n",
    "   50.37793329 3114.34318549   50.20201891 3525.23137015   50.05315724\n",
    " 3950.           50.00307038 1572.15040971 1572.52614401 2418.32681442\n",
    " 1561.61190932\"\"\""
   ]
  },
  {
   "cell_type": "code",
   "execution_count": 2,
   "metadata": {
    "tags": []
   },
   "outputs": [
    {
     "output_type": "execute_result",
     "data": {
      "text/plain": [
       "           x            y\n",
       "0  50.011752   495.563813\n",
       "1  50.052501   921.130919\n",
       "2  51.602072  1340.218204\n",
       "3  52.970462  1771.784454\n",
       "4  50.396109  2215.854477"
      ],
      "text/html": "<div>\n<style scoped>\n    .dataframe tbody tr th:only-of-type {\n        vertical-align: middle;\n    }\n\n    .dataframe tbody tr th {\n        vertical-align: top;\n    }\n\n    .dataframe thead th {\n        text-align: right;\n    }\n</style>\n<table border=\"1\" class=\"dataframe\">\n  <thead>\n    <tr style=\"text-align: right;\">\n      <th></th>\n      <th>x</th>\n      <th>y</th>\n    </tr>\n  </thead>\n  <tbody>\n    <tr>\n      <th>0</th>\n      <td>50.011752</td>\n      <td>495.563813</td>\n    </tr>\n    <tr>\n      <th>1</th>\n      <td>50.052501</td>\n      <td>921.130919</td>\n    </tr>\n    <tr>\n      <th>2</th>\n      <td>51.602072</td>\n      <td>1340.218204</td>\n    </tr>\n    <tr>\n      <th>3</th>\n      <td>52.970462</td>\n      <td>1771.784454</td>\n    </tr>\n    <tr>\n      <th>4</th>\n      <td>50.396109</td>\n      <td>2215.854477</td>\n    </tr>\n  </tbody>\n</table>\n</div>"
     },
     "metadata": {},
     "execution_count": 2
    }
   ],
   "source": [
    "pos = best_pos.replace('\\n', ' ').split(' ')\n",
    "ans = []\n",
    "for val in pos:\n",
    "    if val != '':\n",
    "        ans.append(float(val))\n",
    "import numpy as np \n",
    "ans = np.array(ans).reshape((38, 2))\n",
    "import pandas as pd \n",
    "turbines = pd.DataFrame(ans,columns=['x','y'])\n",
    "turbines.head()"
   ]
  },
  {
   "cell_type": "code",
   "execution_count": 3,
   "metadata": {},
   "outputs": [],
   "source": [
    "# turbines.to_csv(\"C:/Users/awals/Downloads/Shell AI Hackathon/PSO/xyz.csv\",index=False)"
   ]
  },
  {
   "cell_type": "code",
   "execution_count": 22,
   "metadata": {},
   "outputs": [],
   "source": [
    "def proxi_constraint(particle):\n",
    "    \"\"\"\n",
    "        Function to penalize if proximity contraint is violated.\n",
    "        particle : numpy array with shape (n_turbs, 2)\n",
    "    \"\"\"\n",
    "    proxi_penalty = 0\n",
    "    for i in range(particle.shape[0]-1):  \n",
    "        for j in range(i+1,particle.shape[0]):\n",
    "            norm = np.linalg.norm(particle[i]-particle[j])\n",
    "            if norm < 400: print(particle[i],particle[j])\n",
    "            proxi_penalty += max(0, 400-norm)  # linear penalty \n",
    "            \n",
    "    return proxi_penalty/(particle.shape[0]*400)    # dividing to normalize the value to between 0 and 1"
   ]
  },
  {
   "cell_type": "code",
   "execution_count": 24,
   "metadata": {},
   "outputs": [
    {
     "output_type": "stream",
     "name": "stdout",
     "text": [
      "[1337.3326655  3949.99999995] [1288.20161423 3553.25275135]\n"
     ]
    },
    {
     "output_type": "execute_result",
     "data": {
      "text/plain": [
       "1.1113120625896045e-05"
      ]
     },
     "metadata": {},
     "execution_count": 24
    }
   ],
   "source": [
    "ans = np.array(pd.read_csv('C:/Users/awals/Downloads/Shell AI Hackathon/Trials/opt_swarm_ans1_9.csv')).reshape((50,2))\n",
    "proxi_constraint(ans)"
   ]
  },
  {
   "cell_type": "code",
   "execution_count": 9,
   "metadata": {},
   "outputs": [
    {
     "output_type": "execute_result",
     "data": {
      "text/plain": [
       "array([0., 0., 0., 0., 0.])"
      ]
     },
     "metadata": {},
     "execution_count": 9
    }
   ],
   "source": [
    "a = np.array([1, 2, 3, 4])\n",
    "b = np.array([4, 3, 2, 1])\n",
    "(a+b)/np.sum(a+b)\n",
    "np.zeros((5,))"
   ]
  }
 ]
}