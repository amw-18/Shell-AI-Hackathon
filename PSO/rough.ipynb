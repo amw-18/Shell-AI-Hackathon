{
 "metadata": {
  "language_info": {
   "codemirror_mode": {
    "name": "ipython",
    "version": 3
   },
   "file_extension": ".py",
   "mimetype": "text/x-python",
   "name": "python",
   "nbconvert_exporter": "python",
   "pygments_lexer": "ipython3",
   "version": "3.7.7-final"
  },
  "orig_nbformat": 2,
  "kernelspec": {
   "name": "Python 3.7.7 64-bit ('dsenv': conda)",
   "display_name": "Python 3.7.7 64-bit ('dsenv': conda)",
   "metadata": {
    "interpreter": {
     "hash": "59dfa7771b5625019fdc13c6b139916ed136e1d5f9bb81b4dff69d6a0419b4bf"
    }
   }
  }
 },
 "nbformat": 4,
 "nbformat_minor": 2,
 "cells": [
  {
   "cell_type": "code",
   "execution_count": 1,
   "metadata": {},
   "outputs": [],
   "source": [
    "import numpy as np "
   ]
  },
  {
   "cell_type": "code",
   "execution_count": 30,
   "metadata": {},
   "outputs": [
    {
     "output_type": "execute_result",
     "data": {
      "text/plain": "array([7, 7, 8, 7])"
     },
     "metadata": {},
     "execution_count": 30
    }
   ],
   "source": [
    "np.random.randint(7,9,4)"
   ]
  },
  {
   "cell_type": "code",
   "execution_count": 2,
   "metadata": {
    "tags": []
   },
   "outputs": [
    {
     "output_type": "stream",
     "name": "stdout",
     "text": "[[1 1]] [[1 1]\n [2 2]\n [3 3]]\n"
    }
   ],
   "source": [
    "a = np.array([[1, 1]])\n",
    "b = np.array([[1, 1], [2, 2], [3, 3]])\n",
    "print(a, b)"
   ]
  },
  {
   "cell_type": "code",
   "execution_count": 1,
   "metadata": {},
   "outputs": [],
   "source": [
    "import pandas as pd"
   ]
  },
  {
   "cell_type": "code",
   "execution_count": 8,
   "metadata": {},
   "outputs": [
    {
     "output_type": "execute_result",
     "data": {
      "text/plain": "array([1, 2, 3])"
     },
     "metadata": {},
     "execution_count": 8
    }
   ],
   "source": [
    "np.array(np.array([1, 2, 3]))"
   ]
  },
  {
   "cell_type": "code",
   "execution_count": 3,
   "metadata": {},
   "outputs": [
    {
     "output_type": "execute_result",
     "data": {
      "text/plain": "array([0.        , 1.41421356, 2.82842712])"
     },
     "metadata": {},
     "execution_count": 3
    }
   ],
   "source": [
    "np.linalg.norm(b - a,axis=1)"
   ]
  },
  {
   "cell_type": "code",
   "execution_count": 4,
   "metadata": {},
   "outputs": [
    {
     "output_type": "execute_result",
     "data": {
      "text/plain": "array([[1, 1],\n       [2, 2],\n       [1, 1]])"
     },
     "metadata": {},
     "execution_count": 4
    }
   ],
   "source": [
    "b[2,:] = a\n",
    "b"
   ]
  },
  {
   "cell_type": "code",
   "execution_count": 5,
   "metadata": {},
   "outputs": [
    {
     "output_type": "execute_result",
     "data": {
      "text/plain": "array([1, 1, 2, 2, 1, 1])"
     },
     "metadata": {},
     "execution_count": 5
    }
   ],
   "source": [
    "c = b.flatten()\n",
    "c"
   ]
  },
  {
   "cell_type": "code",
   "execution_count": 6,
   "metadata": {},
   "outputs": [
    {
     "output_type": "execute_result",
     "data": {
      "text/plain": "array([[1, 1],\n       [2, 2],\n       [1, 1]])"
     },
     "metadata": {},
     "execution_count": 6
    }
   ],
   "source": [
    "c.reshape((3,2))"
   ]
  },
  {
   "cell_type": "code",
   "execution_count": 7,
   "metadata": {},
   "outputs": [
    {
     "output_type": "execute_result",
     "data": {
      "text/plain": "array([ 734.48139515, 3862.51395608])"
     },
     "metadata": {},
     "execution_count": 7
    }
   ],
   "source": [
    "np.random.uniform(50,3950,2)"
   ]
  },
  {
   "cell_type": "code",
   "execution_count": 11,
   "metadata": {},
   "outputs": [
    {
     "output_type": "execute_result",
     "data": {
      "text/plain": "array([1, 2, 3, 4])"
     },
     "metadata": {},
     "execution_count": 11
    }
   ],
   "source": [
    "a = np.array([1, 2, 3, 4])\n",
    "c = np.array(a.reshape((2,2)))\n",
    "c[:,1] = [0, 0]\n",
    "a"
   ]
  },
  {
   "cell_type": "code",
   "execution_count": 12,
   "metadata": {},
   "outputs": [
    {
     "output_type": "execute_result",
     "data": {
      "text/plain": "array([[1, 0],\n       [3, 0]])"
     },
     "metadata": {},
     "execution_count": 12
    }
   ],
   "source": [
    "c"
   ]
  },
  {
   "cell_type": "code",
   "execution_count": 8,
   "metadata": {},
   "outputs": [],
   "source": [
    "best_pos=\"\"\"  50.\n",
    " 481.60221869   50.00426027  918.606692     50.\n",
    " 1350.22925378   50.         1797.10874665   50.         2217.80085819\n",
    "   50.         2650.99168318   50.         3053.07138941   50.0000013\n",
    " 3516.43279766 3950.          481.93863175 3950.          916.72514242\n",
    " 3950.         1349.87624986 3949.99920538 1792.46849063 3950.\n",
    " 2217.68357693 3950.         2674.33369721 3950.         3082.08048537\n",
    " 3950.         3484.21498827   50.         3949.98878652  485.02872661\n",
    " 3950.          915.45766353 3950.         1346.07602038 3950.\n",
    " 1780.29873784 3950.         2221.00647662 3950.         2652.67863898\n",
    " 3950.         3057.78997142 3950.         3521.52937203 3950.\n",
    " 3949.76162084 3949.99999979   50.           50.02945426  483.21491255\n",
    "   50.00386841  908.93868884   50.         1347.22451403   50.\n",
    " 1783.62862244   50.00198451 2216.54786021   50.023814   2650.02386765\n",
    "   50.         3083.57843349   50.         3516.69420166   50.04333933\n",
    " 3949.98805764   50.          586.36261914 3333.62768039 3079.32543721\n",
    " 2314.95319468 2055.38952328 2176.10813147 1552.01639115 1555.14459985\n",
    " 1379.06527637 3215.09859536 2428.4435614  1600.67090611 1274.70675483\n",
    "  485.7548488  2529.83417445 2959.65499029  694.28437912 1435.91425946\n",
    "  871.07144944 2201.16179352 3526.05952741 2142.44230539 1374.4949159\n",
    " 2032.96903676 1844.49407043 2850.6688162  3102.50554564  823.10482915\"\"\""
   ]
  },
  {
   "cell_type": "code",
   "execution_count": 9,
   "metadata": {
    "tags": []
   },
   "outputs": [
    {
     "output_type": "execute_result",
     "data": {
      "text/plain": [
       "          x            y\n",
       "0  50.00000   481.602219\n",
       "1  50.00426   918.606692\n",
       "2  50.00000  1350.229254\n",
       "3  50.00000  1797.108747\n",
       "4  50.00000  2217.800858"
      ],
      "text/html": "<div>\n<style scoped>\n    .dataframe tbody tr th:only-of-type {\n        vertical-align: middle;\n    }\n\n    .dataframe tbody tr th {\n        vertical-align: top;\n    }\n\n    .dataframe thead th {\n        text-align: right;\n    }\n</style>\n<table border=\"1\" class=\"dataframe\">\n  <thead>\n    <tr style=\"text-align: right;\">\n      <th></th>\n      <th>x</th>\n      <th>y</th>\n    </tr>\n  </thead>\n  <tbody>\n    <tr>\n      <th>0</th>\n      <td>50.00000</td>\n      <td>481.602219</td>\n    </tr>\n    <tr>\n      <th>1</th>\n      <td>50.00426</td>\n      <td>918.606692</td>\n    </tr>\n    <tr>\n      <th>2</th>\n      <td>50.00000</td>\n      <td>1350.229254</td>\n    </tr>\n    <tr>\n      <th>3</th>\n      <td>50.00000</td>\n      <td>1797.108747</td>\n    </tr>\n    <tr>\n      <th>4</th>\n      <td>50.00000</td>\n      <td>2217.800858</td>\n    </tr>\n  </tbody>\n</table>\n</div>"
     },
     "metadata": {},
     "execution_count": 9
    }
   ],
   "source": [
    "pos = best_pos.replace('\\n', ' ').split(' ')\n",
    "ans = []\n",
    "for val in pos:\n",
    "    if val != '':\n",
    "        ans.append(float(val))\n",
    "import numpy as np \n",
    "ans = np.array(ans).reshape((50, 2))\n",
    "import pandas as pd \n",
    "turbines = pd.DataFrame(ans,columns=['x','y'])\n",
    "turbines.head()"
   ]
  },
  {
   "cell_type": "code",
   "execution_count": 10,
   "metadata": {},
   "outputs": [],
   "source": [
    "# turbines.to_csv(\"C:/Users/awals/Downloads/Shell AI Hackathon/Trials/opt_swarm_ans4_all.csv\",index=False)"
   ]
  },
  {
   "cell_type": "code",
   "execution_count": 22,
   "metadata": {},
   "outputs": [],
   "source": [
    "def proxi_constraint(particle):\n",
    "    \"\"\"\n",
    "        Function to penalize if proximity contraint is violated.\n",
    "        particle : numpy array with shape (n_turbs, 2)\n",
    "    \"\"\"\n",
    "    proxi_penalty = 0\n",
    "    for i in range(particle.shape[0]-1):  \n",
    "        for j in range(i+1,particle.shape[0]):\n",
    "            norm = np.linalg.norm(particle[i]-particle[j])\n",
    "            if norm < 400: print(particle[i],particle[j])\n",
    "            proxi_penalty += max(0, 400-norm)  # linear penalty \n",
    "            \n",
    "    return proxi_penalty/(particle.shape[0]*400)    # dividing to normalize the value to between 0 and 1"
   ]
  },
  {
   "cell_type": "code",
   "execution_count": 24,
   "metadata": {},
   "outputs": [
    {
     "output_type": "stream",
     "name": "stdout",
     "text": [
      "[1337.3326655  3949.99999995] [1288.20161423 3553.25275135]\n"
     ]
    },
    {
     "output_type": "execute_result",
     "data": {
      "text/plain": [
       "1.1113120625896045e-05"
      ]
     },
     "metadata": {},
     "execution_count": 24
    }
   ],
   "source": [
    "ans = np.array(pd.read_csv('C:/Users/awals/Downloads/Shell AI Hackathon/Trials/opt_swarm_ans1_9.csv')).reshape((50,2))\n",
    "proxi_constraint(ans)"
   ]
  },
  {
   "cell_type": "code",
   "execution_count": 9,
   "metadata": {},
   "outputs": [
    {
     "output_type": "execute_result",
     "data": {
      "text/plain": [
       "array([0., 0., 0., 0., 0.])"
      ]
     },
     "metadata": {},
     "execution_count": 9
    }
   ],
   "source": [
    "a = np.array([1, 2, 3, 4])\n",
    "b = np.array([4, 3, 2, 1])\n",
    "(a+b)/np.sum(a+b)\n",
    "np.zeros((5,))"
   ]
  }
 ]
}