{
 "metadata": {
  "language_info": {
   "codemirror_mode": {
    "name": "ipython",
    "version": 3
   },
   "file_extension": ".py",
   "mimetype": "text/x-python",
   "name": "python",
   "nbconvert_exporter": "python",
   "pygments_lexer": "ipython3",
   "version": "3.7.7-final"
  },
  "orig_nbformat": 2,
  "kernelspec": {
   "name": "Python 3.7.7 64-bit ('dsenv': conda)",
   "display_name": "Python 3.7.7 64-bit ('dsenv': conda)",
   "metadata": {
    "interpreter": {
     "hash": "59dfa7771b5625019fdc13c6b139916ed136e1d5f9bb81b4dff69d6a0419b4bf"
    }
   }
  }
 },
 "nbformat": 4,
 "nbformat_minor": 2,
 "cells": [
  {
   "cell_type": "code",
   "execution_count": 1,
   "metadata": {},
   "outputs": [],
   "source": [
    "import numpy as np "
   ]
  },
  {
   "cell_type": "code",
   "execution_count": 19,
   "metadata": {
    "tags": []
   },
   "outputs": [
    {
     "output_type": "stream",
     "name": "stdout",
     "text": "[[1 1]] [[1 1]\n [2 2]\n [3 3]]\n"
    }
   ],
   "source": [
    "a = np.array([[1, 1]])\n",
    "b = np.array([[1, 1], [2, 2], [3, 3]])\n",
    "print(a, b)"
   ]
  },
  {
   "cell_type": "code",
   "execution_count": 20,
   "metadata": {},
   "outputs": [
    {
     "output_type": "execute_result",
     "data": {
      "text/plain": "array([0.        , 1.41421356, 2.82842712])"
     },
     "metadata": {},
     "execution_count": 20
    }
   ],
   "source": [
    "np.linalg.norm(b - a,axis=1)"
   ]
  },
  {
   "cell_type": "code",
   "execution_count": 21,
   "metadata": {},
   "outputs": [
    {
     "output_type": "execute_result",
     "data": {
      "text/plain": "array([[1, 1],\n       [2, 2],\n       [1, 1]])"
     },
     "metadata": {},
     "execution_count": 21
    }
   ],
   "source": [
    "b[2,:] = a\n",
    "b"
   ]
  },
  {
   "cell_type": "code",
   "execution_count": 28,
   "metadata": {},
   "outputs": [
    {
     "output_type": "execute_result",
     "data": {
      "text/plain": "array([1, 1, 2, 2, 1, 1])"
     },
     "metadata": {},
     "execution_count": 28
    }
   ],
   "source": [
    "c = b.flatten()\n",
    "c"
   ]
  },
  {
   "cell_type": "code",
   "execution_count": 31,
   "metadata": {},
   "outputs": [
    {
     "output_type": "execute_result",
     "data": {
      "text/plain": "array([[1, 1],\n       [2, 2],\n       [1, 1]])"
     },
     "metadata": {},
     "execution_count": 31
    }
   ],
   "source": [
    "c.reshape((3,2))"
   ]
  },
  {
   "cell_type": "code",
   "execution_count": 33,
   "metadata": {},
   "outputs": [
    {
     "output_type": "execute_result",
     "data": {
      "text/plain": "array([3892.56125629, 2405.42328721])"
     },
     "metadata": {},
     "execution_count": 33
    }
   ],
   "source": [
    "np.random.uniform(50,3950,2)"
   ]
  }
 ]
}