{
 "metadata": {
  "language_info": {
   "codemirror_mode": {
    "name": "ipython",
    "version": 3
   },
   "file_extension": ".py",
   "mimetype": "text/x-python",
   "name": "python",
   "nbconvert_exporter": "python",
   "pygments_lexer": "ipython3",
   "version": "3.7.4-final"
  },
  "orig_nbformat": 2,
  "kernelspec": {
   "name": "Python 3.7.4 64-bit ('miniconda3': conda)",
   "display_name": "Python 3.7.4 64-bit ('miniconda3': conda)",
   "metadata": {
    "interpreter": {
     "hash": "1f4b1e4dbfbb03c34bb2976e349d4eea5cd516984f4cc8db45641dcbbe8dd8b0"
    }
   }
  }
 },
 "nbformat": 4,
 "nbformat_minor": 2,
 "cells": [
  {
   "cell_type": "code",
   "execution_count": 88,
   "metadata": {},
   "outputs": [],
   "source": [
    "import shapely\n",
    "from shapely.geometry import Point, Polygon, LineString, GeometryCollection\n",
    "from shapely import wkt\n",
    "import numpy as np\n",
    "from shapely.ops import nearest_points\n"
   ]
  },
  {
   "cell_type": "code",
   "execution_count": 3,
   "metadata": {},
   "outputs": [
    {
     "output_type": "execute_result",
     "data": {
      "text/plain": "<shapely.geometry.point.Point at 0x7f5030d52390>",
      "image/svg+xml": "<svg xmlns=\"http://www.w3.org/2000/svg\" xmlns:xlink=\"http://www.w3.org/1999/xlink\" width=\"100.0\" height=\"100.0\" viewBox=\"9.0 9.0 2.0 2.0\" preserveAspectRatio=\"xMinYMin meet\"><g transform=\"matrix(1,0,0,-1,0,20.0)\"><circle cx=\"10.0\" cy=\"10.0\" r=\"0.06\" stroke=\"#555555\" stroke-width=\"0.02\" fill=\"#66cc99\" opacity=\"0.6\" /></g></svg>"
     },
     "metadata": {},
     "execution_count": 3
    }
   ],
   "source": [
    "pt = Point(10,10)\n",
    "pt1 = Point(100,101)\n",
    "pt"
   ]
  },
  {
   "cell_type": "code",
   "execution_count": 4,
   "metadata": {},
   "outputs": [
    {
     "output_type": "execute_result",
     "data": {
      "text/plain": "<shapely.geometry.point.Point at 0x7f5030d52190>",
      "image/svg+xml": "<svg xmlns=\"http://www.w3.org/2000/svg\" xmlns:xlink=\"http://www.w3.org/1999/xlink\" width=\"100.0\" height=\"100.0\" viewBox=\"9.0 9.0 2.0 2.0\" preserveAspectRatio=\"xMinYMin meet\"><g transform=\"matrix(1,0,0,-1,0,20.0)\"><circle cx=\"10.0\" cy=\"10.0\" r=\"0.06\" stroke=\"#555555\" stroke-width=\"0.02\" fill=\"#66cc99\" opacity=\"0.6\" /></g></svg>"
     },
     "metadata": {},
     "execution_count": 4
    }
   ],
   "source": [
    "wkt.loads(str(pt))"
   ]
  },
  {
   "cell_type": "code",
   "execution_count": 5,
   "metadata": {},
   "outputs": [
    {
     "output_type": "execute_result",
     "data": {
      "text/plain": "<shapely.geometry.collection.GeometryCollection at 0x7f5030d52a90>",
      "image/svg+xml": "<svg xmlns=\"http://www.w3.org/2000/svg\" xmlns:xlink=\"http://www.w3.org/1999/xlink\" width=\"100.0\" height=\"100.0\" viewBox=\"6.359999999999999 6.359999999999999 97.28 98.28\" preserveAspectRatio=\"xMinYMin meet\"><g transform=\"matrix(1,0,0,-1,0,111.0)\"><g><circle cx=\"10.0\" cy=\"10.0\" r=\"2.9484\" stroke=\"#555555\" stroke-width=\"0.9828\" fill=\"#66cc99\" opacity=\"0.6\" /><circle cx=\"100.0\" cy=\"101.0\" r=\"2.9484\" stroke=\"#555555\" stroke-width=\"0.9828\" fill=\"#66cc99\" opacity=\"0.6\" /></g></g></svg>"
     },
     "metadata": {},
     "execution_count": 5
    }
   ],
   "source": [
    "GeometryCollection([pt,pt1])"
   ]
  },
  {
   "cell_type": "code",
   "execution_count": 6,
   "metadata": {},
   "outputs": [
    {
     "output_type": "execute_result",
     "data": {
      "text/plain": "(10.0, 10.0, (array('d', [10.0]), array('d', [10.0])))"
     },
     "metadata": {},
     "execution_count": 6
    }
   ],
   "source": [
    "pt.distance(pt1)\n",
    "pt.x, pt.y, pt.xy"
   ]
  },
  {
   "cell_type": "code",
   "execution_count": 7,
   "metadata": {},
   "outputs": [
    {
     "output_type": "execute_result",
     "data": {
      "text/plain": "'Point 1'"
     },
     "metadata": {},
     "execution_count": 7
    }
   ],
   "source": [
    "pt.name = \"Point 1\"\n",
    "pt.name"
   ]
  },
  {
   "cell_type": "code",
   "execution_count": 8,
   "metadata": {},
   "outputs": [
    {
     "output_type": "execute_result",
     "data": {
      "text/plain": "2.0"
     },
     "metadata": {},
     "execution_count": 8
    }
   ],
   "source": [
    "ln = LineString([(1,1),[1,2],[2,2],(1.5,1.5)])\n",
    "a=np.array(ln)\n",
    "list(ln.xy[0])\n",
    "ln.xy[1][1]"
   ]
  },
  {
   "cell_type": "code",
   "execution_count": 9,
   "metadata": {},
   "outputs": [
    {
     "output_type": "execute_result",
     "data": {
      "text/plain": "(0.0, 2.7071067811865475)"
     },
     "metadata": {},
     "execution_count": 9
    }
   ],
   "source": [
    "Point([1,1]).distance(ln)\n",
    "ln.project(Point([1,1])), ln.length"
   ]
  },
  {
   "cell_type": "code",
   "execution_count": 10,
   "metadata": {},
   "outputs": [
    {
     "output_type": "execute_result",
     "data": {
      "text/plain": "<shapely.geometry.polygon.Polygon at 0x7f5031b8a890>",
      "image/svg+xml": "<svg xmlns=\"http://www.w3.org/2000/svg\" xmlns:xlink=\"http://www.w3.org/1999/xlink\" width=\"300\" height=\"300\" viewBox=\"-106.0 -106.0 4212.0 4212.0\" preserveAspectRatio=\"xMinYMin meet\"><g transform=\"matrix(1,0,0,-1,0,4000.0)\"><path fill-rule=\"evenodd\" fill=\"#66cc99\" stroke=\"#555555\" stroke-width=\"28.08\" opacity=\"0.6\" d=\"M 50.0,50.0 L 50.0,3950.0 L 3950.0,3950.0 L 3950.0,50.0 L 50.0,50.0 z\" /></g></svg>"
     },
     "metadata": {},
     "execution_count": 10
    }
   ],
   "source": [
    "poly = Polygon([(50,50), (50,3950), (3950,3950), (3950,50)])\n",
    "poly"
   ]
  },
  {
   "cell_type": "code",
   "execution_count": 13,
   "metadata": {},
   "outputs": [
    {
     "output_type": "execute_result",
     "data": {
      "text/plain": "array([[  50.,   50.],\n       [  50., 3950.],\n       [3950., 3950.],\n       [3950.,   50.],\n       [  50.,   50.]])"
     },
     "metadata": {},
     "execution_count": 13
    }
   ],
   "source": [
    "p=poly.exterior\n",
    "np.array(p)"
   ]
  },
  {
   "cell_type": "code",
   "execution_count": 38,
   "metadata": {},
   "outputs": [],
   "source": [
    "point = np.array((55,100))\n",
    "point\n",
    "pt = Point(point)\n",
    "poly.contains(pt)\n",
    "\n",
    "circle = pt.buffer(40)\n",
    "circle.contains(Point([50,100]))\n",
    "\n",
    "a = poly.exterior.project(pt)\n",
    "b =poly.exterior.interpolate(a)\n"
   ]
  },
  {
   "cell_type": "code",
   "execution_count": 78,
   "metadata": {
    "tags": []
   },
   "outputs": [
    {
     "output_type": "execute_result",
     "data": {
      "text/plain": "True"
     },
     "metadata": {},
     "execution_count": 78
    }
   ],
   "source": [
    "list(pt.coords[0]) == [pt.x, pt.y]\n"
   ]
  },
  {
   "cell_type": "code",
   "execution_count": 83,
   "metadata": {},
   "outputs": [
    {
     "output_type": "execute_result",
     "data": {
      "text/plain": "<shapely.geometry.polygon.Polygon at 0x7f501402e450>",
      "image/svg+xml": "<svg xmlns=\"http://www.w3.org/2000/svg\" xmlns:xlink=\"http://www.w3.org/1999/xlink\" width=\"100.0\" height=\"100.0\" viewBox=\"-1.1 -1.1 2.7 2.7\" preserveAspectRatio=\"xMinYMin meet\"><g transform=\"matrix(1,0,0,-1,0,0.5)\"><path fill-rule=\"evenodd\" fill=\"#66cc99\" stroke=\"#555555\" stroke-width=\"0.054000000000000006\" opacity=\"0.6\" d=\"M 1.5000000000000002,-0.9340622441599339 L 1.3901806440322593,-0.9615705608064604 L 1.1960342806591242,-0.9903694533443934 L 1.0000000000000033,-1.0 L 0.8039657193408822,-0.9903694533443941 L 0.6098193559677471,-0.9615705608064615 L 0.419430645491079,-0.9138806714644188 L 0.23463313526982432,-0.847759065022575 L 0.0572065263480086,-0.7638425286967121 L -0.11114046603920102,-0.6629392246050927 L -0.26878656832728787,-0.5460209067254764 L -0.4142135623730925,-0.4142135623730976 L -0.5460209067254718,-0.26878656832729364 L -0.6629392246050887,-0.11114046603920724 L -0.7638425286967085,0.05720652634800194 L -0.8477590650225724,0.23463313526981777 L -0.913880671464417,0.4194306454910727 L -0.9615705608064604,0.6098193559677411 L -0.9903694533443936,0.8039657193408766 L -1.0,0.999999999999998 L -0.9903694533443939,1.1960342806591193 L -0.9615705608064613,1.390180644032255 L -0.934062244159934,1.5 L -0.913880671464417,1.4194306454910728 L -0.8477590650225724,1.2346331352698177 L -0.7638425286967085,1.057206526348002 L -0.6629392246050887,0.8888595339607928 L -0.5460209067254718,0.7312134316727064 L -0.4142135623730925,0.5857864376269024 L -0.26878656832728787,0.45397909327452357 L -0.11114046603920102,0.3370607753949073 L 0.0572065263480086,0.2361574713032879 L 0.17869683479546797,0.1786968347954683 L 0.23615747130329146,0.05720652634800194 L 0.3370607753949113,-0.11114046603920724 L 0.45397909327452823,-0.26878656832729364 L 0.5857864376269075,-0.4142135623730976 L 0.7312134316727121,-0.5460209067254764 L 0.888859533960799,-0.6629392246050927 L 1.0572065263480086,-0.7638425286967121 L 1.2346331352698243,-0.847759065022575 L 1.419430645491079,-0.9138806714644188 L 1.5000000000000002,-0.9340622441599339 z\" /></g></svg>"
     },
     "metadata": {},
     "execution_count": 83
    }
   ],
   "source": [
    "c1 = Point([1,1]).buffer(2)\n",
    "c2 = Point([1,2]).buffer(2)\n",
    "c3 = Point([2,1]).buffer(2)\n",
    "c1.difference(c2).difference(c3)"
   ]
  },
  {
   "cell_type": "code",
   "execution_count": 100,
   "metadata": {},
   "outputs": [
    {
     "output_type": "error",
     "ename": "TypeError",
     "evalue": "must be real number, not Point",
     "traceback": [
      "\u001b[0;31m---------------------------------------------------------------------------\u001b[0m",
      "\u001b[0;31mTypeError\u001b[0m                                 Traceback (most recent call last)",
      "\u001b[0;32m<ipython-input-100-22bb3dbc28a8>\u001b[0m in \u001b[0;36m<module>\u001b[0;34m\u001b[0m\n\u001b[1;32m      4\u001b[0m \u001b[0mfield\u001b[0m\u001b[0;34m\u001b[0m\u001b[0;34m\u001b[0m\u001b[0m\n\u001b[1;32m      5\u001b[0m \u001b[0mpt\u001b[0m \u001b[0;34m=\u001b[0m \u001b[0mPoint\u001b[0m\u001b[0;34m(\u001b[0m\u001b[0mpoint\u001b[0m\u001b[0;34m)\u001b[0m\u001b[0;34m\u001b[0m\u001b[0;34m\u001b[0m\u001b[0m\n\u001b[0;32m----> 6\u001b[0;31m \u001b[0mpt_new\u001b[0m \u001b[0;34m=\u001b[0m \u001b[0mPoint\u001b[0m\u001b[0;34m(\u001b[0m\u001b[0mnearest_points\u001b[0m\u001b[0;34m(\u001b[0m\u001b[0mfield\u001b[0m\u001b[0;34m,\u001b[0m\u001b[0mpt\u001b[0m\u001b[0;34m)\u001b[0m\u001b[0;34m)\u001b[0m\u001b[0;34m\u001b[0m\u001b[0;34m\u001b[0m\u001b[0m\n\u001b[0m",
      "\u001b[0;32m~/Documents/Applications/miniconda3/lib/python3.7/site-packages/shapely/geometry/point.py\u001b[0m in \u001b[0;36m__init__\u001b[0;34m(self, *args)\u001b[0m\n\u001b[1;32m     46\u001b[0m         \u001b[0mBaseGeometry\u001b[0m\u001b[0;34m.\u001b[0m\u001b[0m__init__\u001b[0m\u001b[0;34m(\u001b[0m\u001b[0mself\u001b[0m\u001b[0;34m)\u001b[0m\u001b[0;34m\u001b[0m\u001b[0;34m\u001b[0m\u001b[0m\n\u001b[1;32m     47\u001b[0m         \u001b[0;32mif\u001b[0m \u001b[0mlen\u001b[0m\u001b[0;34m(\u001b[0m\u001b[0margs\u001b[0m\u001b[0;34m)\u001b[0m \u001b[0;34m>\u001b[0m \u001b[0;36m0\u001b[0m\u001b[0;34m:\u001b[0m\u001b[0;34m\u001b[0m\u001b[0;34m\u001b[0m\u001b[0m\n\u001b[0;32m---> 48\u001b[0;31m             \u001b[0mself\u001b[0m\u001b[0;34m.\u001b[0m\u001b[0m_set_coords\u001b[0m\u001b[0;34m(\u001b[0m\u001b[0;34m*\u001b[0m\u001b[0margs\u001b[0m\u001b[0;34m)\u001b[0m\u001b[0;34m\u001b[0m\u001b[0;34m\u001b[0m\u001b[0m\n\u001b[0m\u001b[1;32m     49\u001b[0m \u001b[0;34m\u001b[0m\u001b[0m\n\u001b[1;32m     50\u001b[0m     \u001b[0;31m# Coordinate getters and setters\u001b[0m\u001b[0;34m\u001b[0m\u001b[0;34m\u001b[0m\u001b[0;34m\u001b[0m\u001b[0m\n",
      "\u001b[0;32m~/Documents/Applications/miniconda3/lib/python3.7/site-packages/shapely/geometry/point.py\u001b[0m in \u001b[0;36m_set_coords\u001b[0;34m(self, *args)\u001b[0m\n\u001b[1;32m    131\u001b[0m         \u001b[0mself\u001b[0m\u001b[0;34m.\u001b[0m\u001b[0mempty\u001b[0m\u001b[0;34m(\u001b[0m\u001b[0;34m)\u001b[0m\u001b[0;34m\u001b[0m\u001b[0;34m\u001b[0m\u001b[0m\n\u001b[1;32m    132\u001b[0m         \u001b[0;32mif\u001b[0m \u001b[0mlen\u001b[0m\u001b[0;34m(\u001b[0m\u001b[0margs\u001b[0m\u001b[0;34m)\u001b[0m \u001b[0;34m==\u001b[0m \u001b[0;36m1\u001b[0m\u001b[0;34m:\u001b[0m\u001b[0;34m\u001b[0m\u001b[0;34m\u001b[0m\u001b[0m\n\u001b[0;32m--> 133\u001b[0;31m             \u001b[0mself\u001b[0m\u001b[0;34m.\u001b[0m\u001b[0m_geom\u001b[0m\u001b[0;34m,\u001b[0m \u001b[0mself\u001b[0m\u001b[0;34m.\u001b[0m\u001b[0m_ndim\u001b[0m \u001b[0;34m=\u001b[0m \u001b[0mgeos_point_from_py\u001b[0m\u001b[0;34m(\u001b[0m\u001b[0margs\u001b[0m\u001b[0;34m[\u001b[0m\u001b[0;36m0\u001b[0m\u001b[0;34m]\u001b[0m\u001b[0;34m)\u001b[0m\u001b[0;34m\u001b[0m\u001b[0;34m\u001b[0m\u001b[0m\n\u001b[0m\u001b[1;32m    134\u001b[0m         \u001b[0;32melif\u001b[0m \u001b[0mlen\u001b[0m\u001b[0;34m(\u001b[0m\u001b[0margs\u001b[0m\u001b[0;34m)\u001b[0m \u001b[0;34m>\u001b[0m \u001b[0;36m3\u001b[0m\u001b[0;34m:\u001b[0m\u001b[0;34m\u001b[0m\u001b[0;34m\u001b[0m\u001b[0m\n\u001b[1;32m    135\u001b[0m             \u001b[0;32mraise\u001b[0m \u001b[0mTypeError\u001b[0m\u001b[0;34m(\u001b[0m\u001b[0;34m\"Point() takes at most 3 arguments ({} given)\"\u001b[0m\u001b[0;34m.\u001b[0m\u001b[0mformat\u001b[0m\u001b[0;34m(\u001b[0m\u001b[0mlen\u001b[0m\u001b[0;34m(\u001b[0m\u001b[0margs\u001b[0m\u001b[0;34m)\u001b[0m\u001b[0;34m)\u001b[0m\u001b[0;34m)\u001b[0m\u001b[0;34m\u001b[0m\u001b[0;34m\u001b[0m\u001b[0m\n",
      "\u001b[0;32m~/Documents/Applications/miniconda3/lib/python3.7/site-packages/shapely/geometry/point.py\u001b[0m in \u001b[0;36mgeos_point_from_py\u001b[0;34m(ob, update_geom, update_ndim)\u001b[0m\n\u001b[1;32m    212\u001b[0m         \u001b[0mcoords\u001b[0m \u001b[0;34m=\u001b[0m \u001b[0mob\u001b[0m\u001b[0;34m\u001b[0m\u001b[0;34m\u001b[0m\u001b[0m\n\u001b[1;32m    213\u001b[0m     \u001b[0mn\u001b[0m \u001b[0;34m=\u001b[0m \u001b[0mlen\u001b[0m\u001b[0;34m(\u001b[0m\u001b[0mcoords\u001b[0m\u001b[0;34m)\u001b[0m\u001b[0;34m\u001b[0m\u001b[0;34m\u001b[0m\u001b[0m\n\u001b[0;32m--> 214\u001b[0;31m     \u001b[0mdx\u001b[0m \u001b[0;34m=\u001b[0m \u001b[0mc_double\u001b[0m\u001b[0;34m(\u001b[0m\u001b[0mcoords\u001b[0m\u001b[0;34m[\u001b[0m\u001b[0;36m0\u001b[0m\u001b[0;34m]\u001b[0m\u001b[0;34m)\u001b[0m\u001b[0;34m\u001b[0m\u001b[0;34m\u001b[0m\u001b[0m\n\u001b[0m\u001b[1;32m    215\u001b[0m     \u001b[0mdy\u001b[0m \u001b[0;34m=\u001b[0m \u001b[0mc_double\u001b[0m\u001b[0;34m(\u001b[0m\u001b[0mcoords\u001b[0m\u001b[0;34m[\u001b[0m\u001b[0;36m1\u001b[0m\u001b[0;34m]\u001b[0m\u001b[0;34m)\u001b[0m\u001b[0;34m\u001b[0m\u001b[0;34m\u001b[0m\u001b[0m\n\u001b[1;32m    216\u001b[0m     \u001b[0mdz\u001b[0m \u001b[0;34m=\u001b[0m \u001b[0;32mNone\u001b[0m\u001b[0;34m\u001b[0m\u001b[0;34m\u001b[0m\u001b[0m\n",
      "\u001b[0;31mTypeError\u001b[0m: must be real number, not Point"
     ]
    }
   ],
   "source": [
    "Min = 50\n",
    "Max = 3950\n",
    "field = Polygon([(Min,Min), (Min,Max), (Max,Max), (Max,Min)])\n",
    "field\n",
    "pt = Point(point)\n",
    "pt_new = nearest_points(field,pt)"
   ]
  }
 ]
}