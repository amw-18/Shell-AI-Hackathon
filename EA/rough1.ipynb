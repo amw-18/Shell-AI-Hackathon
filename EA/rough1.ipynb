{
 "cells": [
  {
   "cell_type": "code",
   "execution_count": 2,
   "metadata": {},
   "outputs": [],
   "source": [
    "import numpy as np\n",
    "import pandas as pd\n",
    "import random\n",
    "import matplotlib.pyplot as plt\n",
    "\n",
    "import shapely\n",
    "from shapely.geometry import Point, Polygon, LineString, GeometryCollection\n",
    "from shapely.ops import nearest_points \n",
    "from shapely import wkt\n"
   ]
  },
  {
   "cell_type": "code",
   "execution_count": 17,
   "metadata": {},
   "outputs": [],
   "source": [
    "def get_random_arrangement(n_turbs):\n",
    "\n",
    "    def get_point():\n",
    "        \"\"\"Returns random integer from 50 to 3950 inclusive\"\"\"\n",
    "        return random.uniform(50,3950)\n",
    "\n",
    "    def is_valid(point):\n",
    "        \"\"\"Checks if given point is valid\"\"\"\n",
    "        point = np.array(point)\n",
    "        point = np.reshape(point,(1,2))\n",
    "        # getting array of distances to every other point\n",
    "        dist = np.linalg.norm(turbine_pos - point,axis=1)\n",
    "        return min(dist) > 400   # 400 is the problem constraint\n",
    "\n",
    "    turbine_pos = np.full((n_turbs,2),np.inf)\n",
    "    turb_list = []\n",
    "    count = 0\n",
    "    while count < n_turbs:\n",
    "        point = [get_point(),get_point()] # x,y\n",
    "        if is_valid(point):\n",
    "            turbine_pos[count,:] = point\n",
    "            count += 1\n",
    "            # turb_list.append(point)\n",
    "    return turbine_pos"
   ]
  },
  {
   "cell_type": "code",
   "execution_count": 30,
   "metadata": {},
   "outputs": [
    {
     "output_type": "execute_result",
     "data": {
      "text/plain": "64"
     },
     "metadata": {},
     "execution_count": 30
    }
   ],
   "source": [
    "ans = []\n",
    "for i in range(28):\n",
    "    a = np.array(pd.read_csv(\"/home/ananthu/Workspace/Shell AI Hackathon/Trials/opt_swarm_ans{}.csv\".format(i)))\n",
    "    ans.append(a.flatten())\n",
    "remaining = 64 - len(ans)\n",
    "for i in range(remaining):\n",
    "    ans.append(get_random_arrangement(50).flatten())\n",
    "len(ans)\n",
    "\n",
    "\n",
    "# ans = np.array(ans)\n",
    "# # plt.scatter(ans[:,0],ans[:,1])\n",
    "# # plt.show()"
   ]
  },
  {
   "cell_type": "code",
   "execution_count": 31,
   "metadata": {},
   "outputs": [],
   "source": [
    "b = pd.DataFrame(ans)\n",
    "b.to_csv(\"initData.csv\", index=False)"
   ]
  },
  {
   "cell_type": "code",
   "execution_count": 35,
   "metadata": {},
   "outputs": [],
   "source": [
    "a = []\n",
    "locs = np.array(pd.read_csv(\"initData.csv\"))\n",
    "for loc in locs:\n",
    "    a.append(loc.reshape((50,2)))"
   ]
  },
  {
   "cell_type": "code",
   "execution_count": 49,
   "metadata": {},
   "outputs": [
    {
     "output_type": "execute_result",
     "data": {
      "text/plain": "numpy.ndarray"
     },
     "metadata": {},
     "execution_count": 49
    }
   ],
   "source": [
    "from sklearn.cluster import KMeans\n",
    "\n",
    "a_flat = [ind.flatten() for ind in a] \n",
    "kmeans = KMeans(n_clusters=5).fit(a_flat)\n",
    "type(kmeans.cluster_centers_)"
   ]
  },
  {
   "cell_type": "code",
   "execution_count": 4,
   "metadata": {},
   "outputs": [
    {
     "output_type": "execute_result",
     "data": {
      "text/plain": "str"
     },
     "metadata": {},
     "execution_count": 4
    }
   ],
   "source": [
    "A = \"EA/\"\n",
    "type(A)"
   ]
  },
  {
   "cell_type": "code",
   "execution_count": 12,
   "metadata": {},
   "outputs": [
    {
     "output_type": "execute_result",
     "data": {
      "text/plain": "'EA/data'"
     },
     "metadata": {},
     "execution_count": 12
    }
   ],
   "source": [
    "B = A + \"data\"\n",
    "type(B)\n",
    "B"
   ]
  }
 ],
 "metadata": {
  "kernelspec": {
   "name": "Python 3.7.4 64-bit ('miniconda3': conda)",
   "display_name": "Python 3.7.4 64-bit ('miniconda3': conda)",
   "metadata": {
    "interpreter": {
     "hash": "1f4b1e4dbfbb03c34bb2976e349d4eea5cd516984f4cc8db45641dcbbe8dd8b0"
    }
   }
  },
  "language_info": {
   "codemirror_mode": {
    "name": "ipython",
    "version": 3
   },
   "file_extension": ".py",
   "mimetype": "text/x-python",
   "name": "python",
   "nbconvert_exporter": "python",
   "pygments_lexer": "ipython3",
   "version": "3.7.4-final"
  }
 },
 "nbformat": 4,
 "nbformat_minor": 2
}