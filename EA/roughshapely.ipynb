{
 "metadata": {
  "language_info": {
   "codemirror_mode": {
    "name": "ipython",
    "version": 3
   },
   "file_extension": ".py",
   "mimetype": "text/x-python",
   "name": "python",
   "nbconvert_exporter": "python",
   "pygments_lexer": "ipython3",
   "version": "3.7.4-final"
  },
  "orig_nbformat": 2,
  "kernelspec": {
   "name": "Python 3.7.4 64-bit ('base': conda)",
   "display_name": "Python 3.7.4 64-bit ('base': conda)",
   "metadata": {
    "interpreter": {
     "hash": "1f4b1e4dbfbb03c34bb2976e349d4eea5cd516984f4cc8db45641dcbbe8dd8b0"
    }
   }
  }
 },
 "nbformat": 4,
 "nbformat_minor": 2,
 "cells": [
  {
   "cell_type": "code",
   "execution_count": null,
   "metadata": {},
   "outputs": [],
   "source": [
    "import shapely\n",
    "from shapely.geometry import Point, Polygon, LineString, GeometryCollection\n",
    "from shapely import wkt\n",
    "import numpy as np\n",
    "from shapely.ops import nearest_points\n",
    "import random\n",
    "from shapely.geometry import MultiPoint\n"
   ]
  },
  {
   "cell_type": "code",
   "execution_count": null,
   "metadata": {},
   "outputs": [],
   "source": [
    "pt = Point(10,10)\n",
    "pt1 = Point(100,101)\n",
    "pt"
   ]
  },
  {
   "cell_type": "code",
   "execution_count": null,
   "metadata": {},
   "outputs": [],
   "source": [
    "wkt.loads(str(pt))"
   ]
  },
  {
   "cell_type": "code",
   "execution_count": null,
   "metadata": {},
   "outputs": [],
   "source": [
    "GeometryCollection([pt,pt1])"
   ]
  },
  {
   "cell_type": "code",
   "execution_count": null,
   "metadata": {},
   "outputs": [],
   "source": [
    "pt.distance(pt1)\n",
    "pt.x, pt.y, pt.xy[1]"
   ]
  },
  {
   "cell_type": "code",
   "execution_count": null,
   "metadata": {},
   "outputs": [],
   "source": [
    "pt.name = \"Point 1\"\n",
    "pt.name"
   ]
  },
  {
   "cell_type": "code",
   "execution_count": null,
   "metadata": {},
   "outputs": [],
   "source": [
    "ln = LineString([(1,1),[1,2],[2,2],(1.5,1.5)])\n",
    "a=np.array(ln)\n",
    "# list(ln.xy[0])\n",
    "# ln.xy[1][1]\n",
    "a"
   ]
  },
  {
   "cell_type": "code",
   "execution_count": null,
   "metadata": {},
   "outputs": [],
   "source": [
    "Point([1,1.5]).distance(ln)\n",
    "# ln.project(Point([1,1])), ln.length\n",
    "GeometryCollection([Point([1.2,1.5]),ln])"
   ]
  },
  {
   "cell_type": "code",
   "execution_count": null,
   "metadata": {},
   "outputs": [],
   "source": [
    "poly = Polygon([(50,50), (50,3950), (3950,3950), (3950,50)])\n",
    "poly"
   ]
  },
  {
   "cell_type": "code",
   "execution_count": null,
   "metadata": {},
   "outputs": [],
   "source": [
    "p=poly.exterior\n",
    "np.array(p)"
   ]
  },
  {
   "cell_type": "code",
   "execution_count": null,
   "metadata": {},
   "outputs": [],
   "source": [
    "point = np.array((55,100))\n",
    "point\n",
    "pt = Point(point)\n",
    "poly.contains(pt)\n",
    "\n",
    "circle = pt.buffer(40)\n",
    "circle.contains(Point([50,100]))\n",
    "\n",
    "a = poly.exterior.project(pt)\n",
    "b =poly.exterior.interpolate(a)\n"
   ]
  },
  {
   "cell_type": "code",
   "execution_count": null,
   "metadata": {
    "tags": []
   },
   "outputs": [],
   "source": [
    "list(pt.coords[0]) == [pt.x, pt.y]\n"
   ]
  },
  {
   "cell_type": "code",
   "execution_count": null,
   "metadata": {},
   "outputs": [],
   "source": [
    "c1 = Point([1,1]).buffer(2)\n",
    "c2 = Point([1,2]).buffer(2)\n",
    "c3 = Point([2,1]).buffer(2)\n",
    "c1.difference(c2).difference(c3)"
   ]
  },
  {
   "cell_type": "code",
   "execution_count": null,
   "metadata": {
    "tags": []
   },
   "outputs": [],
   "source": [
    "Min = 50\n",
    "Max = 3950\n",
    "field = Polygon([(Min,Min), (Min,Max), (Max,Max), (Max,Min)])\n",
    "field\n",
    "pt = Point(point)\n",
    "pt_new,_ = nearest_points(field,Point([0,0]))\n",
    "pt = pt_new\n",
    "field.difference(pt.buffer(400))\n",
    "\n",
    "print([pt.x, pt.y])\n"
   ]
  },
  {
   "cell_type": "code",
   "execution_count": null,
   "metadata": {},
   "outputs": [],
   "source": [
    "def get_random_arrangement(n_turbs):\n",
    "\n",
    "    def get_point():\n",
    "        \"\"\"Returns random integer from 50 to 3950 inclusive\"\"\"\n",
    "        return random.uniform(50,3950)\n",
    "\n",
    "    def is_valid(point):\n",
    "        \"\"\"Checks if given point is valid\"\"\"\n",
    "        point = np.array(point)\n",
    "        point = np.reshape(point,(1,2))\n",
    "        # getting array of distances to every other point\n",
    "        dist = np.linalg.norm(turbine_pos - point,axis=1)\n",
    "        return min(dist) > 400   # 400 is the problem constraint\n",
    "\n",
    "    turbine_pos = np.full((n_turbs,2),np.inf)\n",
    "    turb_list = []\n",
    "    count = 0\n",
    "    while count < n_turbs:\n",
    "        point = [get_point(),get_point()] # x,y\n",
    "        if is_valid(point):\n",
    "            turbine_pos[count,:] = point\n",
    "            count += 1\n",
    "            # turb_list.append(point)\n",
    "    return turbine_pos"
   ]
  },
  {
   "cell_type": "code",
   "execution_count": null,
   "metadata": {
    "tags": []
   },
   "outputs": [],
   "source": [
    "turb = get_random_arrangement(50)\n",
    "turb"
   ]
  },
  {
   "cell_type": "code",
   "execution_count": null,
   "metadata": {},
   "outputs": [],
   "source": [
    "from numpy import array\n",
    "a = [array([1596.36676121,  138.45422947]), array([ 977.41222868, 3397.30858118]), array([1371.70470451,  531.2721245 ]), array([2152.18943217, 3880.48267978]), array([1474.30494376, 1761.45855404]), array([145.58466423, 170.67563354]), array([2876.71154606, 3241.47635077]), array([ 578.94637377, 3696.4916067 ]), array([1392.52440778, 2270.74510658]), array([1791.96180458, 2126.66951367]), array([1172.20025507, 1233.44428622]), array([1276.35619279, 3064.07883597]), array([2331.18901678,  291.90218119]), array([2341.52245709, 3525.57889301]), array([3510.0296964 ,  306.20498409]), array([3407.70024525, 2624.86909089]), array([3946.70422003, 1924.97876881]), array([3793.33607545, 1507.35748822]), array([3460.18500294,  805.0856397 ]), array([2043.56499184, 2815.61213104]), array([3777.90578332, 3084.70566871]), array([762.17779674, 148.1203289 ]), array([ 749.75514296, 1899.91662296]), array([3224.65576059, 1496.38742026]), array([ 175.77767411, 1383.17447608]), array([ 672.94228433, 2378.52148934]), array([2254.93414603,  711.87246433]), array([1178.47195092, 3940.70301147]), array([2717.08265181, 1296.4174027 ]), array([2966.97119241, 2489.45494755]), array([448.92815815, 740.20884466]), array([2881.69941061, 1785.83880112]), array([ 185.04395974, 1981.40952189]), array([2969.26296853, 3788.86913382]), array([2853.66198343,   81.1139672 ]), array([3777.49797618, 3493.83819141]), array([1653.03887257, 1287.00257804]), array([ 763.13090013, 1241.02433756]), array([2441.31059335, 2213.22435888]), array([2239.50479809, 1642.52236884]), array([3918.47611465, 2700.96671189]), array([1663.29742039, 3692.1217649 ]), array([ 577.47046314, 3218.57543382]), array([  77.07732733, 3390.31945306]), array([ 163.08420983, 2685.67971257]), array([3314.21289245, 3409.40469451]), array([3949.64802346,   62.34615667]), array([ 188.30677386, 3924.57049728]), array([3421.82260615, 2099.06969608]), array([3880.21797336, 1037.58085478])]\n"
   ]
  },
  {
   "cell_type": "code",
   "execution_count": null,
   "metadata": {},
   "outputs": [],
   "source": [
    "a = [array([2000, 2000]), array([2000,2400])]"
   ]
  },
  {
   "cell_type": "code",
   "execution_count": null,
   "metadata": {},
   "outputs": [],
   "source": [
    "import pandas as pd\n",
    "import matplotlib.pyplot as plt\n",
    "\n",
    "b = pd.DataFrame(a,columns=['x','y'])\n",
    "b.head()\n",
    "b.to_csv(\"trial.csv\", index=False)\n",
    "plt.scatter(b.x,b.y)\n"
   ]
  },
  {
   "cell_type": "code",
   "execution_count": null,
   "metadata": {},
   "outputs": [],
   "source": [
    "a = np.array(pd.read_csv(\"/home/ananthu/Workspace/Shell AI Hackathon/Trials/opt_swarm_ans7.csv\"))"
   ]
  },
  {
   "cell_type": "code",
   "execution_count": null,
   "metadata": {},
   "outputs": [],
   "source": [
    "a = np.array(pd.read_csv(\"/home/ananthu/Workspace/Shell AI Hackathon/EA/outs/final_data.csv\"))"
   ]
  },
  {
   "cell_type": "code",
   "execution_count": null,
   "metadata": {},
   "outputs": [],
   "source": [
    "from shapely.geometry import MultiPoint\n",
    "points = MultiPoint(a)\n"
   ]
  },
  {
   "cell_type": "code",
   "execution_count": null,
   "metadata": {},
   "outputs": [],
   "source": [
    "points.buffer(200)"
   ]
  },
  {
   "source": [],
   "cell_type": "code",
   "metadata": {},
   "execution_count": null,
   "outputs": []
  },
  {
   "cell_type": "code",
   "execution_count": null,
   "metadata": {},
   "outputs": [],
   "source": [
    "# field = poly = Polygon([(50,50), (50,3950), (100,3950), (100,50)])\n",
    "point = Point((51,2000))\n",
    "# GeometryCollection([field,point])\n",
    "field=field.difference(point.buffer(400))\n",
    "field"
   ]
  },
  {
   "cell_type": "code",
   "execution_count": 6,
   "metadata": {},
   "outputs": [
    {
     "output_type": "execute_result",
     "data": {
      "text/plain": [
       "<shapely.geometry.polygon.Polygon at 0x7f66acf55810>"
      ],
      "image/svg+xml": "<svg xmlns=\"http://www.w3.org/2000/svg\" xmlns:xlink=\"http://www.w3.org/1999/xlink\" width=\"300\" height=\"300\" viewBox=\"-28.0 -28.0 2106.0 2106.0\" preserveAspectRatio=\"xMinYMin meet\"><g transform=\"matrix(1,0,0,-1,0,2050.0)\"><path fill-rule=\"evenodd\" fill=\"#66cc99\" stroke=\"#555555\" stroke-width=\"14.04\" opacity=\"0.6\" d=\"M 50.0,50.0 L 50.0,2000.0 L 2000.0,2000.0 L 2000.0,50.0 L 50.0,50.0 z\" /></g></svg>"
     },
     "metadata": {},
     "execution_count": 6
    }
   ],
   "source": [
    "field = Polygon([(50,50), (50,3950), (3950,3950), (3950,50)])\n",
    "left = 200\n",
    "right = 3800\n",
    "mid = (left-right)/2\n",
    "rect1 = Polygon([(left,left), (left,mid), (mid,mid), (mid,left)])\n",
    "rect2 = Polygon([(left,mid), (left,right), (mid,right), (mid,mid)])\n",
    "rect3 = Polygon([(mid,mid), (mid,right), (right,right), (right,mid)])\n",
    "rect4 = Polygon([(mid,left), (mid,mid), (right,mid), (right,left)])\n",
    "rect1"
   ]
  }
 ]
}