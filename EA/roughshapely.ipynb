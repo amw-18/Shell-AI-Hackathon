{
 "metadata": {
  "language_info": {
   "codemirror_mode": {
    "name": "ipython",
    "version": 3
   },
   "file_extension": ".py",
   "mimetype": "text/x-python",
   "name": "python",
   "nbconvert_exporter": "python",
   "pygments_lexer": "ipython3",
   "version": "3.7.7-final"
  },
  "orig_nbformat": 2,
  "kernelspec": {
<<<<<<< HEAD
   "name": "Python 3.7.4 64-bit ('base': conda)",
   "display_name": "Python 3.7.4 64-bit ('base': conda)",
=======
   "name": "Python 3.7.7 64-bit ('dsenv': conda)",
   "display_name": "Python 3.7.7 64-bit ('dsenv': conda)",
>>>>>>> b693358d9c70b2d46c6390dc581bdf9c34258850
   "metadata": {
    "interpreter": {
     "hash": "59dfa7771b5625019fdc13c6b139916ed136e1d5f9bb81b4dff69d6a0419b4bf"
    }
   }
  }
 },
 "nbformat": 4,
 "nbformat_minor": 2,
 "cells": [
  {
   "cell_type": "code",
<<<<<<< HEAD
   "execution_count": null,
=======
   "execution_count": 29,
>>>>>>> b693358d9c70b2d46c6390dc581bdf9c34258850
   "metadata": {},
   "outputs": [],
   "source": [
    "import shapely\n",
    "from shapely.geometry import Point, Polygon, LineString, GeometryCollection\n",
    "from shapely import wkt\n",
    "import numpy as np\n",
    "from shapely.ops import nearest_points\n",
    "import random\n",
<<<<<<< HEAD
    "from shapely.geometry import MultiPoint\n"
=======
    "from shapely.geometry import MultiPoint"
>>>>>>> b693358d9c70b2d46c6390dc581bdf9c34258850
   ]
  },
  {
   "cell_type": "code",
   "execution_count": null,
   "metadata": {},
   "outputs": [],
   "source": [
    "pt = Point(10,10)\n",
    "pt1 = Point(100,101)\n",
    "pt"
   ]
  },
  {
   "cell_type": "code",
   "execution_count": null,
   "metadata": {},
   "outputs": [],
   "source": [
    "wkt.loads(str(pt))"
   ]
  },
  {
   "cell_type": "code",
   "execution_count": null,
   "metadata": {},
   "outputs": [],
   "source": [
    "GeometryCollection([pt,pt1])"
   ]
  },
  {
   "cell_type": "code",
   "execution_count": null,
   "metadata": {},
   "outputs": [],
   "source": [
    "pt.distance(pt1)\n",
    "pt.x, pt.y, pt.xy[1]"
   ]
  },
  {
   "cell_type": "code",
   "execution_count": null,
   "metadata": {},
   "outputs": [],
   "source": [
    "pt.name = \"Point 1\"\n",
    "pt.name"
   ]
  },
  {
   "cell_type": "code",
   "execution_count": null,
   "metadata": {},
   "outputs": [],
   "source": [
    "ln = LineString([(1,1),[1,2],[2,2],(1.5,1.5)])\n",
    "a=np.array(ln)\n",
    "# list(ln.xy[0])\n",
    "# ln.xy[1][1]\n",
    "a"
   ]
  },
  {
   "cell_type": "code",
   "execution_count": null,
   "metadata": {},
   "outputs": [],
   "source": [
    "Point([1,1.5]).distance(ln)\n",
    "# ln.project(Point([1,1])), ln.length\n",
    "GeometryCollection([Point([1.2,1.5]),ln])"
   ]
  },
  {
   "cell_type": "code",
   "execution_count": null,
   "metadata": {},
   "outputs": [],
   "source": [
    "poly = Polygon([(50,50), (50,3950), (3950,3950), (3950,50)])\n",
    "poly"
   ]
  },
  {
   "cell_type": "code",
   "execution_count": null,
   "metadata": {},
   "outputs": [],
   "source": [
    "p=poly.exterior\n",
    "np.array(p)"
   ]
  },
  {
   "cell_type": "code",
   "execution_count": null,
   "metadata": {},
   "outputs": [],
   "source": [
    "point = np.array((55,100))\n",
    "point\n",
    "pt = Point(point)\n",
    "poly.contains(pt)\n",
    "\n",
    "circle = pt.buffer(40)\n",
    "circle.contains(Point([50,100]))\n",
    "\n",
    "a = poly.exterior.project(pt)\n",
    "b =poly.exterior.interpolate(a)\n"
   ]
  },
  {
   "cell_type": "code",
   "execution_count": null,
   "metadata": {
    "tags": []
   },
   "outputs": [],
   "source": [
    "list(pt.coords[0]) == [pt.x, pt.y]\n"
   ]
  },
  {
   "cell_type": "code",
   "execution_count": null,
   "metadata": {},
   "outputs": [],
   "source": [
    "c1 = Point([1,1]).buffer(2)\n",
    "c2 = Point([1,2]).buffer(2)\n",
    "c3 = Point([2,1]).buffer(2)\n",
    "c1.difference(c2).difference(c3)"
   ]
  },
  {
   "cell_type": "code",
   "execution_count": null,
   "metadata": {
    "tags": []
   },
   "outputs": [],
   "source": [
    "Min = 50\n",
    "Max = 3950\n",
    "field = Polygon([(Min,Min), (Min,Max), (Max,Max), (Max,Min)])\n",
    "field\n",
    "pt = Point(point)\n",
    "pt_new,_ = nearest_points(field,Point([0,0]))\n",
    "pt = pt_new\n",
    "field.difference(pt.buffer(400))\n",
    "\n",
    "print([pt.x, pt.y])\n"
   ]
  },
  {
   "cell_type": "code",
   "execution_count": null,
   "metadata": {},
   "outputs": [],
   "source": [
    "def get_random_arrangement(n_turbs):\n",
    "\n",
    "    def get_point():\n",
    "        \"\"\"Returns random integer from 50 to 3950 inclusive\"\"\"\n",
    "        return random.uniform(50,3950)\n",
    "\n",
    "    def is_valid(point):\n",
    "        \"\"\"Checks if given point is valid\"\"\"\n",
    "        point = np.array(point)\n",
    "        point = np.reshape(point,(1,2))\n",
    "        # getting array of distances to every other point\n",
    "        dist = np.linalg.norm(turbine_pos - point,axis=1)\n",
    "        return min(dist) > 400   # 400 is the problem constraint\n",
    "\n",
    "    turbine_pos = np.full((n_turbs,2),np.inf)\n",
    "    turb_list = []\n",
    "    count = 0\n",
    "    while count < n_turbs:\n",
    "        point = [get_point(),get_point()] # x,y\n",
    "        if is_valid(point):\n",
    "            turbine_pos[count,:] = point\n",
    "            count += 1\n",
    "            # turb_list.append(point)\n",
    "    return turbine_pos"
   ]
  },
  {
   "cell_type": "code",
   "execution_count": null,
   "metadata": {
    "tags": []
   },
   "outputs": [],
   "source": [
    "turb = get_random_arrangement(50)\n",
    "turb"
   ]
  },
  {
   "cell_type": "code",
   "execution_count": null,
   "metadata": {},
   "outputs": [],
   "source": [
    "from numpy import array\n",
    "a = [array([1596.36676121,  138.45422947]), array([ 977.41222868, 3397.30858118]), array([1371.70470451,  531.2721245 ]), array([2152.18943217, 3880.48267978]), array([1474.30494376, 1761.45855404]), array([145.58466423, 170.67563354]), array([2876.71154606, 3241.47635077]), array([ 578.94637377, 3696.4916067 ]), array([1392.52440778, 2270.74510658]), array([1791.96180458, 2126.66951367]), array([1172.20025507, 1233.44428622]), array([1276.35619279, 3064.07883597]), array([2331.18901678,  291.90218119]), array([2341.52245709, 3525.57889301]), array([3510.0296964 ,  306.20498409]), array([3407.70024525, 2624.86909089]), array([3946.70422003, 1924.97876881]), array([3793.33607545, 1507.35748822]), array([3460.18500294,  805.0856397 ]), array([2043.56499184, 2815.61213104]), array([3777.90578332, 3084.70566871]), array([762.17779674, 148.1203289 ]), array([ 749.75514296, 1899.91662296]), array([3224.65576059, 1496.38742026]), array([ 175.77767411, 1383.17447608]), array([ 672.94228433, 2378.52148934]), array([2254.93414603,  711.87246433]), array([1178.47195092, 3940.70301147]), array([2717.08265181, 1296.4174027 ]), array([2966.97119241, 2489.45494755]), array([448.92815815, 740.20884466]), array([2881.69941061, 1785.83880112]), array([ 185.04395974, 1981.40952189]), array([2969.26296853, 3788.86913382]), array([2853.66198343,   81.1139672 ]), array([3777.49797618, 3493.83819141]), array([1653.03887257, 1287.00257804]), array([ 763.13090013, 1241.02433756]), array([2441.31059335, 2213.22435888]), array([2239.50479809, 1642.52236884]), array([3918.47611465, 2700.96671189]), array([1663.29742039, 3692.1217649 ]), array([ 577.47046314, 3218.57543382]), array([  77.07732733, 3390.31945306]), array([ 163.08420983, 2685.67971257]), array([3314.21289245, 3409.40469451]), array([3949.64802346,   62.34615667]), array([ 188.30677386, 3924.57049728]), array([3421.82260615, 2099.06969608]), array([3880.21797336, 1037.58085478])]\n"
   ]
  },
  {
   "cell_type": "code",
   "execution_count": null,
   "metadata": {},
   "outputs": [],
   "source": [
    "a = [array([2000, 2000]), array([2000,2400])]"
   ]
  },
  {
   "cell_type": "code",
   "execution_count": null,
   "metadata": {},
   "outputs": [],
   "source": [
    "import pandas as pd\n",
    "import matplotlib.pyplot as plt\n",
    "\n",
    "b = pd.DataFrame(a,columns=['x','y'])\n",
    "b.head()\n",
    "b.to_csv(\"trial.csv\", index=False)\n",
    "plt.scatter(b.x,b.y)\n"
   ]
  },
  {
   "cell_type": "code",
   "execution_count": null,
   "metadata": {},
   "outputs": [],
   "source": [
    "a = np.array(pd.read_csv(\"/home/ananthu/Workspace/Shell AI Hackathon/Trials/opt_swarm_ans7.csv\"))"
   ]
  },
  {
   "cell_type": "code",
   "execution_count": null,
   "metadata": {},
   "outputs": [],
   "source": [
    "a = np.array(pd.read_csv(\"/home/ananthu/Workspace/Shell AI Hackathon/EA/outs/final_data.csv\"))"
   ]
  },
  {
   "cell_type": "code",
   "execution_count": null,
   "metadata": {},
   "outputs": [],
   "source": [
    "\n",
    "points = MultiPoint(a)\n"
   ]
  },
  {
   "cell_type": "code",
   "execution_count": null,
   "metadata": {},
   "outputs": [],
   "source": [
    "points.buffer(200)"
   ]
  },
  {
   "source": [],
   "cell_type": "code",
   "metadata": {},
   "execution_count": null,
   "outputs": []
  },
  {
   "cell_type": "code",
   "execution_count": null,
   "metadata": {},
   "outputs": [],
   "source": [
    "# field = poly = Polygon([(50,50), (50,3950), (100,3950), (100,50)])\n",
    "point = Point((51,2000))\n",
    "# GeometryCollection([field,point])\n",
    "field=field.difference(point.buffer(400))\n",
    "field"
   ]
  },
  {
   "cell_type": "code",
   "execution_count": 6,
   "metadata": {},
   "outputs": [
    {
     "output_type": "execute_result",
     "data": {
      "text/plain": [
       "<shapely.geometry.polygon.Polygon at 0x7f66acf55810>"
      ],
      "image/svg+xml": "<svg xmlns=\"http://www.w3.org/2000/svg\" xmlns:xlink=\"http://www.w3.org/1999/xlink\" width=\"300\" height=\"300\" viewBox=\"-28.0 -28.0 2106.0 2106.0\" preserveAspectRatio=\"xMinYMin meet\"><g transform=\"matrix(1,0,0,-1,0,2050.0)\"><path fill-rule=\"evenodd\" fill=\"#66cc99\" stroke=\"#555555\" stroke-width=\"14.04\" opacity=\"0.6\" d=\"M 50.0,50.0 L 50.0,2000.0 L 2000.0,2000.0 L 2000.0,50.0 L 50.0,50.0 z\" /></g></svg>"
     },
     "metadata": {},
     "execution_count": 6
    }
   ],
   "source": [
    "field = Polygon([(50,50), (50,3950), (3950,3950), (3950,50)])\n",
    "left = 200\n",
    "right = 3800\n",
    "mid = (left-right)/2\n",
    "rect1 = Polygon([(left,left), (left,mid), (mid,mid), (mid,left)])\n",
    "rect2 = Polygon([(left,mid), (left,right), (mid,right), (mid,mid)])\n",
    "rect3 = Polygon([(mid,mid), (mid,right), (right,right), (right,mid)])\n",
    "rect4 = Polygon([(mid,left), (mid,mid), (right,mid), (right,left)])\n",
    "rect1"
   ]
<<<<<<< HEAD
=======
  },
  {
   "cell_type": "code",
   "execution_count": 25,
   "metadata": {},
   "outputs": [],
   "source": [
    "ppos = np.array([2655.5169279553647, 3522.8189150529847, 2109.998520361898, 3485.2683517772657, -666.777266668701, 145.31015055413445, 3200.257362986731, 215.48515439841333, 1609.1890610762969, 7146.478807544952, 3229.249556609516, 1210.197722898466, 5428.059254953063, -1274.00294780137, 3744.3873345305465, 4356.0489158704795, -27.05409520718331, 3560.9521554650105, 1071.8737349549501, 3239.6485319485905, 2933.8077476778417, 1495.6635711150936, 1340.614291124625, 1569.402822207731, -342.85720176859013, -4470.281915744319, 5016.0096617513, 2465.316937217262, 2088.2234095390995, 1024.3406854929694, -107.47106642852532, 1814.7521096898404, 2174.4313427744078, 2618.619966120341, 597.424610657808, -0.007803481087194086, 1303.3439718783359, 849.519028152652, 2183.037639997712, 2123.755934419358, 2420.4102557360447, 1420.6390451371742, 7773.501950333165, 3384.4438373147163, 2655.224598275495, -903.2656811675574, 811.2698597883887, 3135.571558877159, 3551.9549142151786, 4585.797689169005, -1989.7690951558538, 3696.008556178028, 1467.5260928855978, -834.294593671812, 3093.397205443082, 2826.5700382399623, 6271.586312566496, 2765.7393444354548, \n",
    "-1739.980119233835, 2016.1096770613708, 2010.1014590695318, 1779.2685638294552, -439.6609781184561, 925.5237406997518, 4995.215620289582, 467.4802481103218, 3650.2381436804144, 3342.9948259794, 782.946042557468, 1455.3161991686907])"
   ]
  },
  {
   "cell_type": "code",
   "execution_count": 17,
   "metadata": {},
   "outputs": [],
   "source": [
    "import matplotlib.pyplot as plt"
   ]
  },
  {
   "source": [
    "Min, Max = 50, 3950\n",
    "tol = 5\n",
    "\n",
    "placed = []\n",
    "\n",
    "# ppos = np.array([1, 2, 3, 4])\n",
    "new_pos = ppos.reshape((ppos.shape[0]//2, 2))\n",
    "outer = Polygon([(Min,Min), (Min,Max), (Max,Max), (Max,Min)])\n",
    "inner = Polygon([(Min+tol,Min+tol), (Min+tol,Max-tol), (Max-tol,Max-tol), (Max-tol,Min+tol)])\n",
    "field = outer.difference(inner)\n",
    "for turb in new_pos:\n",
    "    pt = Point(turb)\n",
    "    placed.append(turb)\n",
    "    if field.is_empty:\n",
    "        break\n",
    "    if not field.contains(pt):\n",
    "        pt, _ = nearest_points(field, pt)\n",
    "        turb[:] = [pt.x, pt.y]\n",
    "\n",
    "    field = field.difference(pt.buffer(400))\n",
    "\n",
    "field"
   ],
   "cell_type": "code",
   "metadata": {
    "tags": []
   },
   "execution_count": 26,
   "outputs": [
    {
     "output_type": "execute_result",
     "data": {
      "text/plain": [
       "<shapely.geometry.polygon.Polygon at 0x276df82b8c8>"
      ],
      "image/svg+xml": "<svg xmlns=\"http://www.w3.org/2000/svg\" xmlns:xlink=\"http://www.w3.org/1999/xlink\" />"
     },
     "metadata": {},
     "execution_count": 26
    }
   ]
  },
  {
   "cell_type": "code",
   "execution_count": 33,
   "metadata": {},
   "outputs": [
    {
     "output_type": "execute_result",
     "data": {
      "text/plain": [
       "<shapely.geometry.multipolygon.MultiPolygon at 0x276d9cb9ec8>"
      ],
      "image/svg+xml": "<svg xmlns=\"http://www.w3.org/2000/svg\" xmlns:xlink=\"http://www.w3.org/1999/xlink\" width=\"300\" height=\"300\" viewBox=\"-106.0 -106.0 4212.0 4212.0\" preserveAspectRatio=\"xMinYMin meet\"><g transform=\"matrix(1,0,0,-1,0,4000.0)\"><g><path fill-rule=\"evenodd\" fill=\"#66cc99\" stroke=\"#555555\" stroke-width=\"28.08\" opacity=\"0.6\" d=\"M 50.0,744.81888205644 L 50.0,969.64845645658 L 55.0,969.89409070543 L 55.0,745.06451630529 L 50.0,744.81888205644 z\" /><path fill-rule=\"evenodd\" fill=\"#66cc99\" stroke=\"#555555\" stroke-width=\"28.08\" opacity=\"0.6\" d=\"M 50.0,2169.15718795888 L 50.0,2535.81719312601 L 55.0,2535.57155887716 L 55.0,2168.91155371003 L 50.0,2169.15718795888 z\" /><path fill-rule=\"evenodd\" fill=\"#66cc99\" stroke=\"#555555\" stroke-width=\"28.08\" opacity=\"0.6\" d=\"M 50.0,2935.32592462831 L 50.0,2935.81719312601 L 55.0,2935.57155887716 L 50.0,2935.32592462831 z\" /><path fill-rule=\"evenodd\" fill=\"#66cc99\" stroke=\"#555555\" stroke-width=\"28.08\" opacity=\"0.6\" d=\"M 50.0,3335.32592462831 L 50.0,3360.95215546501 L 55.0,3361.19778971386 L 55.0,3335.57155887716 L 50.0,3335.32592462831 z\" /><path fill-rule=\"evenodd\" fill=\"#66cc99\" stroke=\"#555555\" stroke-width=\"28.08\" opacity=\"0.6\" d=\"M 50.0,3760.95215546501 L 50.0,3772.10058211993 L 55.0,3769.73575824047 L 55.0,3760.70652121616 L 50.0,3760.95215546501 z\" /><path fill-rule=\"evenodd\" fill=\"#66cc99\" stroke=\"#555555\" stroke-width=\"28.08\" opacity=\"0.6\" d=\"M 341.07580010833,3950.0 L 472.1193692038,3950.0 L 471.87373495495,3945.0 L 340.83016585948,3945.0 L 341.07580010833,3950.0 z\" /><path fill-rule=\"evenodd\" fill=\"#66cc99\" stroke=\"#555555\" stroke-width=\"28.08\" opacity=\"0.6\" d=\"M 871.6281007061,3950.0 L 872.1193692038,3950.0 L 871.87373495495,3945.0 L 871.6281007061,3950.0 z\" /><path fill-rule=\"evenodd\" fill=\"#66cc99\" stroke=\"#555555\" stroke-width=\"28.08\" opacity=\"0.6\" d=\"M 1271.6281007061,3950.0 L 1409.1890610763,3950.0 L 1409.43469532515,3945.0 L 1271.87373495495,3945.0 L 1271.6281007061,3950.0 z\" /><path fill-rule=\"evenodd\" fill=\"#66cc99\" stroke=\"#555555\" stroke-width=\"28.08\" opacity=\"0.6\" d=\"M 1809.1890610763,3950.0 L 1910.24415461075,3950.0 L 1909.9985203619,3945.0 L 1808.94342682745,3945.0 L 1809.1890610763,3950.0 z\" /><path fill-rule=\"evenodd\" fill=\"#66cc99\" stroke=\"#555555\" stroke-width=\"28.08\" opacity=\"0.6\" d=\"M 2309.75288611305,3950.0 L 2455.76256220421,3950.0 L 2455.51692795536,3945.0 L 2309.9985203619,3945.0 L 2309.75288611305,3950.0 z\" /><path fill-rule=\"evenodd\" fill=\"#66cc99\" stroke=\"#555555\" stroke-width=\"28.08\" opacity=\"0.6\" d=\"M 2855.27129370652,3950.0 L 2855.76256220422,3950.0 L 2855.51692795537,3945.0 L 2855.27129370652,3950.0 z\" /><path fill-rule=\"evenodd\" fill=\"#66cc99\" stroke=\"#555555\" stroke-width=\"28.08\" opacity=\"0.6\" d=\"M 3255.27129370652,3950.0 L 3544.38733453055,3950.0 L 3544.6329687794,3945.0 L 3255.51692795537,3945.0 L 3255.27129370652,3950.0 z\" /><path fill-rule=\"evenodd\" fill=\"#66cc99\" stroke=\"#555555\" stroke-width=\"28.08\" opacity=\"0.6\" d=\"M 3944.38733453055,3950.0 L 3950.0,3950.0 L 3950.0,3584.44383731472 L 3945.0,3584.19820306587 L 3945.0,3945.0 L 3944.1417002817,3945.0 L 3944.38733453055,3950.0 z\" /><path fill-rule=\"evenodd\" fill=\"#66cc99\" stroke=\"#555555\" stroke-width=\"28.08\" opacity=\"0.6\" d=\"M 3950.0,3184.44383731472 L 3950.0,3184.44383731471 L 3945.0,3184.68947156356 L 3945.0,3184.68947156357 L 3950.0,3184.44383731472 z\" /><path fill-rule=\"evenodd\" fill=\"#66cc99\" stroke=\"#555555\" stroke-width=\"28.08\" opacity=\"0.6\" d=\"M 3950.0,2784.93510581241 L 3950.0,2665.31693721726 L 3945.0,2665.07130296841 L 3945.0,2784.68947156356 L 3950.0,2784.93510581241 z\" /><path fill-rule=\"evenodd\" fill=\"#66cc99\" stroke=\"#555555\" stroke-width=\"28.08\" opacity=\"0.6\" d=\"M 3950.0,1865.80820571496 L 3950.0,1809.95208864962 L 3945.0,1810.19772289847 L 3945.0,1865.56257146611 L 3950.0,1865.80820571496 z\" /><path fill-rule=\"evenodd\" fill=\"#66cc99\" stroke=\"#555555\" stroke-width=\"28.08\" opacity=\"0.6\" d=\"M 3950.0,1410.44335714732 L 3950.0,1409.95208864962 L 3945.0,1410.19772289847 L 3950.0,1410.44335714732 z\" /><path fill-rule=\"evenodd\" fill=\"#66cc99\" stroke=\"#555555\" stroke-width=\"28.08\" opacity=\"0.6\" d=\"M 3950.0,1010.44335714732 L 3950.0,649.5087315023 L 3945.0,649.75436575115 L 3945.0,1010.19772289847 L 3950.0,1010.44335714732 z\" /><path fill-rule=\"evenodd\" fill=\"#66cc99\" stroke=\"#555555\" stroke-width=\"28.08\" opacity=\"0.6\" d=\"M 3750.0,50.0 L 3400.01172873788,50.0 L 3400.25736298673,55.0 L 3750.24563424885,55.0 L 3750.0,50.0 z\" /><path fill-rule=\"evenodd\" fill=\"#66cc99\" stroke=\"#555555\" stroke-width=\"28.08\" opacity=\"0.6\" d=\"M 3000.50299723558,50.0 L 2687.97777529025,50.0 L 2688.2234095391,55.0 L 3000.25736298673,55.0 L 3000.50299723558,50.0 z\" /><path fill-rule=\"evenodd\" fill=\"#66cc99\" stroke=\"#555555\" stroke-width=\"28.08\" opacity=\"0.6\" d=\"M 2288.46904378795,50.0 L 2287.97777529025,50.0 L 2288.2234095391,55.0 L 2288.46904378795,50.0 z\" /><path fill-rule=\"evenodd\" fill=\"#66cc99\" stroke=\"#555555\" stroke-width=\"28.08\" opacity=\"0.6\" d=\"M 1888.46904378795,50.0 L 1503.09833762949,50.0 L 1503.34397187834,55.0 L 1888.2234095391,55.0 L 1888.46904378795,50.0 z\" /><path fill-rule=\"evenodd\" fill=\"#66cc99\" stroke=\"#555555\" stroke-width=\"28.08\" opacity=\"0.6\" d=\"M 1103.58960612719,50.0 L 1037.98719496344,50.0 L 1037.74156071459,55.0 L 1103.34397187834,55.0 L 1103.58960612719,50.0 z\" /><path fill-rule=\"evenodd\" fill=\"#66cc99\" stroke=\"#555555\" stroke-width=\"28.08\" opacity=\"0.6\" d=\"M 237.98719496344,50.0 L 225.76641321505,50.0 L 226.38425286967,51.03080318894 L 228.26154314988,55.0 L 238.23282921229,55.0 L 237.98719496344,50.0 z\" /><path fill-rule=\"evenodd\" fill=\"#66cc99\" stroke=\"#555555\" stroke-width=\"28.08\" opacity=\"0.6\" d=\"M 637.74156071459,55.0 L 638.23282921229,55.0 L 637.98719496344,50.0 L 637.74156071459,55.0 z\" /></g></g></svg>"
     },
     "metadata": {},
     "execution_count": 33
    }
   ],
   "source": [
    "a = MultiPoint(placed[:-1])\n",
    "outer = Polygon([(Min,Min), (Min,Max), (Max,Max), (Max,Min)])\n",
    "inner = Polygon([(Min+tol,Min+tol), (Min+tol,Max-tol), (Max-tol,Max-tol), (Max-tol,Min+tol)])\n",
    "field = outer.difference(inner)\n",
    "field.difference(a.buffer(200))"
   ]
>>>>>>> b693358d9c70b2d46c6390dc581bdf9c34258850
  }
 ]
}