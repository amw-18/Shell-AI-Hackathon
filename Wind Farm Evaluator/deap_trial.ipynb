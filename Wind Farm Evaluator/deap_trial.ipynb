{
 "metadata": {
  "language_info": {
   "codemirror_mode": {
    "name": "ipython",
    "version": 3
   },
   "file_extension": ".py",
   "mimetype": "text/x-python",
   "name": "python",
   "nbconvert_exporter": "python",
   "pygments_lexer": "ipython3",
   "version": "3.7.7-final"
  },
  "orig_nbformat": 2,
  "kernelspec": {
   "name": "python_defaultSpec_1600756510345",
   "display_name": "Python 3.7.7 64-bit ('dsenv': conda)"
  }
 },
 "nbformat": 4,
 "nbformat_minor": 2,
 "cells": [
  {
   "cell_type": "code",
   "execution_count": 3,
   "metadata": {},
   "outputs": [],
   "source": [
    "import random\n",
    "\n",
    "from deap import base\n",
    "from deap import creator\n",
    "from deap import tools"
   ]
  },
  {
   "cell_type": "code",
   "execution_count": 2,
   "metadata": {},
   "outputs": [],
   "source": [
    "import sys\n",
    "sys.path.insert(1, '/path/to/Wind Farm Evaluator')\n",
    "from Vec_modified import *\n",
    "\n",
    "def get_args(n_turbs):\n",
    "    # setting turbine radius\n",
    "    turb_rad = 50.0\n",
    "\n",
    "    # Loading the power curve\n",
    "    power_curve   =  loadPowerCurve('C:/Users/awals/Downloads/Shell AI Hackathon/Shell_Hackathon Dataset/power_curve.csv')\n",
    "\n",
    "    # Loading wind data \n",
    "    years = ['07','08','09','13','14','15','17']\n",
    "    wind_inst_freqs = []\n",
    "    for y in years:\n",
    "        wind_inst_freqs.append(binWindResourceData(f'C:/Users/awals/Downloads/Shell AI Hackathon/Shell_Hackathon Dataset/Wind Data/wind_data_20{y}.csv'))\n",
    "    \n",
    "    # preprocessing the wind data to avoid repeated calculations\n",
    "    n_wind_instances, cos_dir, sin_dir, wind_sped_stacked, C_t = preProcessing(power_curve,n_turbs)\n",
    "\n",
    "    kwargs = {'turb_rad': turb_rad, 'power_curve': power_curve, 'wind_inst_freqs': wind_inst_freqs,\n",
    "            'n_wind_instances': n_wind_instances, 'cos_dir': cos_dir, 'sin_dir': sin_dir, 'wind_sped_stacked': wind_sped_stacked,\n",
    "            'C_t': C_t}\n",
    "\n",
    "    return kwargs\n",
    "\n",
    "def proxi_constraint(turb_coords):\n",
    "    \"\"\"\n",
    "        Function to penalize if proximity contraint is violated.\n",
    "        turb_coords is a 2d numpy array with N (xi,yi) elements.\n",
    "    \"\"\"\n",
    "    ans = 0\n",
    "    for i in range(turb_coords.shape[0]-1):\n",
    "        for j in range(i+1,turb_coords.shape[0]-1):\n",
    "            norm = np.linalg.norm(turb_coords[i]-turb_coords[j])\n",
    "            ans += max(0,400 - norm)\n",
    "            \n",
    "    return ans\n",
    "\n",
    "\n",
    "def evaluate(individual, n_turbs, **kwargs):\n",
    "    \"\"\"\n",
    "        Objective function to be minimized w.r.t. turb_coords.\n",
    "    \"\"\"\n",
    "\n",
    "    turb_coords = np.array([[individual[i],individual[i+1]] for i in range(0,2*n_turbs-1,2)])\n",
    "    mean_AEP = 0\n",
    "    for wind_inst_freq in wind_inst_freqs:\n",
    "        mean_AEP += getAEP(turb_rad, turb_coords, power_curve, wind_inst_freq, n_wind_instances, cos_dir, sin_dir, wind_sped_stacked, C_t)\n",
    "    \n",
    "    mean_AEP /= 7\n",
    "    \n",
    "    proxi_val = proxi_constraint(turb_coords)\n",
    "    \n",
    "    ideal_AEP = 11.297*n_turbs  # 11.297 is the mean score for 1 turbine\n",
    "    \n",
    "    return mean_AEP/ideal_AEP, proxi_val"
   ]
  },
  {
   "cell_type": "code",
   "execution_count": 4,
   "metadata": {
    "tags": []
   },
   "outputs": [],
   "source": [
    "import array\n",
    "creator.create(\"FitnessMulti\", base.Fitness, weights=(1.0,-1.0))\n",
    "creator.create(\"Individual\", array.array, typecode='d', fitness=creator.FitnessMulti, strategy=None)\n",
    "creator.create(\"Strategy\", array.array, typecode=\"d\")\n",
    "\n",
    "FLT_MIN = 50\n",
    "FLT_MAX = 3950\n",
    "N_DIM = 100  # 50*2\n",
    "smin, smax = 1.0, 20.0  # min and max standard deviations\n",
    "\n",
    "def initES(icls, scls, n, FLT_MIN, FLT_MAX, smin, smax):\n",
    "    ind = icls(random.uniform(FLT_MIN, FLT_MAX) for _ in range(n))\n",
    "    ind.strategy = scls(random.uniform(smin,smax) for _ in range(n))\n",
    "\n",
    "    return ind\n",
    "\n",
    "toolbox = base.Toolbox()\n",
    "\n",
    "toolbox.register(\"attr_float\", random.uniform, FLT_MIN, FLT_MAX)\n",
    "toolbox.register(\"individual\", initES, creator.Individual, creator.Strategy, N_DIM, FLT_MIN, FLT_MAX, smin, smax)"
   ]
  },
  {
   "cell_type": "code",
   "execution_count": 5,
   "metadata": {},
   "outputs": [],
   "source": [
    "toolbox.register(\"population\", tools.initRepeat, list, toolbox.individual)"
   ]
  },
  {
   "cell_type": "code",
   "execution_count": 11,
   "metadata": {},
   "outputs": [],
   "source": [
    "N_CHILD = 50\n",
    "N_PARENT = 5\n",
    "Offspring = toolbox.population(n=N_CHILD)"
   ]
  },
  {
   "cell_type": "code",
   "execution_count": null,
   "metadata": {},
   "outputs": [],
   "source": []
  },
  {
   "cell_type": "code",
   "execution_count": 10,
   "metadata": {},
   "outputs": [
    {
     "output_type": "execute_result",
     "data": {
      "text/plain": "100"
     },
     "metadata": {},
     "execution_count": 10
    }
   ],
   "source": []
  }
 ]
}