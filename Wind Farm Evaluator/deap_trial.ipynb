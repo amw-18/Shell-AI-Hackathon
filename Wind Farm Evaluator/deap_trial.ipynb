{
 "cells": [
  {
   "cell_type": "code",
   "execution_count": 1,
   "metadata": {},
   "outputs": [],
   "source": [
    "import random\n",
    "import array\n",
    "\n",
    "from deap import base\n",
    "from deap import creator\n",
    "from deap import tools\n",
    "\n",
    "import sys\n",
    "sys.path.insert(1, '/path/to/Wind Farm Evaluator')\n",
    "from Vec_modified import *"
   ]
  },
  {
   "cell_type": "code",
   "execution_count": 2,
   "metadata": {},
   "outputs": [],
   "source": [
    "def get_random_arrangement(n_turbs):\n",
    "\n",
    "    def get_point():\n",
    "        \"\"\"Returns random integer from 50 to 3950 inclusive\"\"\"\n",
    "        return random.uniform(50,3950)\n",
    "\n",
    "\n",
    "    def is_valid(point):\n",
    "        \"\"\"Checks if given point is valid\"\"\"\n",
    "        point = np.array(point)\n",
    "        point = np.reshape(point,(1,2))\n",
    "        # getting array of distances to every other point\n",
    "        dist = np.linalg.norm(turbine_pos - point,axis=1)\n",
    "\n",
    "        return min(dist) > 400   # 400 is the problem constraint\n",
    "\n",
    "    turbine_pos = np.full((n_turbs,2),np.inf)\n",
    "    count = 0\n",
    "    ans = []\n",
    "    while count < n_turbs:\n",
    "        point = [get_point(),get_point()] # x,y\n",
    "        if is_valid(point):\n",
    "            turbine_pos[count,:] = point\n",
    "            ans.extend(list(point))\n",
    "            count += 1\n",
    "\n",
    "    return ans"
   ]
  },
  {
   "cell_type": "code",
   "execution_count": 3,
   "metadata": {},
   "outputs": [],
   "source": [
    "def get_args(n_turbs):\n",
    "    # setting turbine radius\n",
    "    turb_rad = 50.0\n",
    "\n",
    "    # Loading the power curve\n",
    "    power_curve   =  loadPowerCurve('C:/Users/awals/Downloads/Shell AI Hackathon/Shell_Hackathon Dataset/power_curve.csv')\n",
    "\n",
    "    # Loading wind data \n",
    "    years = ['07','08','09','13','14','15','17']\n",
    "    wind_inst_freqs = []\n",
    "    for y in years:\n",
    "        wind_inst_freqs.append(binWindResourceData(f'C:/Users/awals/Downloads/Shell AI Hackathon/Shell_Hackathon Dataset/Wind Data/wind_data_20{y}.csv'))\n",
    "    \n",
    "    # preprocessing the wind data to avoid repeated calculations\n",
    "    n_wind_instances, cos_dir, sin_dir, wind_sped_stacked, C_t = preProcessing(power_curve,n_turbs)\n",
    "\n",
    "    kwargs = {'turb_rad': turb_rad, 'power_curve': power_curve, 'wind_inst_freqs': wind_inst_freqs,\n",
    "            'n_wind_instances': n_wind_instances, 'cos_dir': cos_dir, 'sin_dir': sin_dir, 'wind_sped_stacked': wind_sped_stacked,\n",
    "            'C_t': C_t}\n",
    "\n",
    "    return kwargs\n",
    "\n",
    "def peri_constraint(turb_coords):\n",
    "    peri_val = 0\n",
    "    for turb in turb_coords:\n",
    "        for val in turb:\n",
    "            if val < 50:\n",
    "                peri_val += (50 - val)\n",
    "            elif val > 3950:\n",
    "                peri_val += (val - 3950)\n",
    "                \n",
    "    return peri_val\n",
    "\n",
    "def proxi_constraint(turb_coords):\n",
    "    \"\"\"\n",
    "        Function to penalize if proximity contraint is violated.\n",
    "        turb_coords is a 2d numpy array with N (xi,yi) elements.\n",
    "    \"\"\"\n",
    "    proxi_val = 0\n",
    "    for i in range(turb_coords.shape[0]-1):\n",
    "        for j in range(i+1,turb_coords.shape[0]-1):\n",
    "            norm = np.linalg.norm(turb_coords[i]-turb_coords[j])\n",
    "            proxi_val += max(0,400 - norm)\n",
    "\n",
    "    return proxi_val\n",
    "\n",
    "\n",
    "def evaluate(individual, n_turbs, turb_rad, power_curve, wind_inst_freqs, n_wind_instances, cos_dir, sin_dir, wind_sped_stacked, C_t):\n",
    "    \"\"\"\n",
    "        Function to return values of both objectives as a tuple\n",
    "    \"\"\"\n",
    "\n",
    "    # rearranging the terms in individual to pass to getAEP\n",
    "    turb_coords = np.array([[individual[i],individual[i+1]] for i in range(0,2*n_turbs-1,2)])\n",
    "\n",
    "    # calculating meanAEP for \n",
    "    mean_AEP = 0\n",
    "    for wind_inst_freq in wind_inst_freqs:\n",
    "        mean_AEP += getAEP(turb_rad, turb_coords, power_curve, wind_inst_freq, n_wind_instances, cos_dir, sin_dir, wind_sped_stacked, C_t)\n",
    "    mean_AEP /= len(wind_inst_freqs)\n",
    "    \n",
    "    proxi_val = proxi_constraint(turb_coords)\n",
    "    \n",
    "    peri_val = peri_constraint(turb_coords)\n",
    "    \n",
    "    ideal_AEP = 11.297*n_turbs  # 11.297 is the mean score for 1 turbine\n",
    "    \n",
    "    return mean_AEP/ideal_AEP, proxi_val, peri_val  # First objective should be closest to 1 and second closest to zero\n",
    "\n",
    "def initES(icls, scls, size, FLT_MIN, FLT_MAX, smin, smax):\n",
    "    \"\"\"\n",
    "        Initialization function for an individual\n",
    "    \"\"\"\n",
    "    # initializing an individual\n",
    "    # ind = icls(random.uniform(FLT_MIN, FLT_MAX) for _ in range(size))\n",
    "    ind = icls(get_random_arrangement(size//2))\n",
    "    # initializing the individual's strategy\n",
    "    ind.strategy = scls(random.uniform(smin,smax) for _ in range(size))\n",
    "\n",
    "    return ind"
   ]
  },
  {
   "cell_type": "code",
   "execution_count": 4,
   "metadata": {},
   "outputs": [],
   "source": [
    "n_turbs = 20\n",
    "\n",
    "# creating a multi-objective Fitness criterio, with maximizing first and minimizing second\n",
    "creator.create(\"FitnessMulti\", base.Fitness, weights=(1.0, -100.0, -100000.0)) \n",
    "# creating an individual (potential solution) as a vector of floats with a fitness and a strategy attribute\n",
    "creator.create(\"Individual\", array.array, typecode='d', fitness=creator.FitnessMulti, strategy=None)\n",
    "# defining the strategy attribute as a vector of floats (standard deviation for each dimension)\n",
    "creator.create(\"Strategy\", array.array, typecode=\"d\")\n",
    "\n",
    "# defining initial constraints\n",
    "FLT_MIN = 50\n",
    "FLT_MAX = 3950\n",
    "\n",
    "# defining size of individual and strategy limits\n",
    "N_DIM = n_turbs*2 \n",
    "smin, smax = 10, 100  # min and max value for strategy\n",
    "\n",
    "# creating a toolbox\n",
    "toolbox = base.Toolbox()\n",
    "\n",
    "# registering intiES in the toolbox with an alias \"individual\"\n",
    "toolbox.register(\"individual\", initES, creator.Individual, creator.Strategy, N_DIM, FLT_MIN, FLT_MAX, smin, smax)\n",
    "# registering a 'population' function that will create a population(set) of n individuals (n : parameter)\n",
    "toolbox.register(\"population\", tools.initRepeat, list, toolbox.individual)\n",
    "\n",
    "\n",
    "# SPEA\n",
    "\n",
    "N_CHILD = 50\n",
    "N_PARENT = 4\n",
    "N_ELITE = 3\n",
    "TOURN_SIZE = N_CHILD//N_PARENT\n",
    "\n",
    "\n",
    "Offspring = toolbox.population(n=N_CHILD)\n",
    "\n",
    "MAX_GENS = 100\n",
    "CROSS_PROB = 0.8    # probability of cross for each attribute\n",
    "MUT_PROB = 0.5  # probability of mutation of an individual\n",
    "\n",
    "# calculating kwargs once for repeated use\n",
    "kwargs = get_args(n_turbs)"
   ]
  },
  {
   "cell_type": "code",
   "execution_count": 5,
   "metadata": {
    "tags": []
   },
   "outputs": [
    {
     "output_type": "stream",
     "name": "stdout",
     "text": "0*********10*********20*********30*********40*********50*********60*********70*********80*********90*********100\n"
    }
   ],
   "source": [
    "Elite = list()\n",
    "for g in range(MAX_GENS):\n",
    "    # evaluating obj function values for each individual\n",
    "    for ind in Offspring:\n",
    "        ind.fitness.values = evaluate(ind, n_turbs, **kwargs)\n",
    "\n",
    "    # selecting the 5 non-dominated individuals\n",
    "    dominating = tools.selSPEA2(Offspring, N_ELITE)\n",
    "\n",
    "    # adding dominating individuals in Elite\n",
    "    Elite_sel = [toolbox.clone(ind) for ind in dominating]\n",
    "    Elite.extend(Elite_sel)\n",
    "\n",
    "    # reducing the size of Elite\n",
    "    Elite = tools.selSPEA2(Elite, N_ELITE)\n",
    "\n",
    "    # creating the parent population by tournament selection\n",
    "    Parent_sel = tools.selTournament([*Offspring, *Elite], N_PARENT, TOURN_SIZE, fit_attr='fitness')\n",
    "    Parent = [toolbox.clone(ind) for ind in Parent_sel]\n",
    "\n",
    "    # doing uniform cross-over and mutating\n",
    "    Offspring = []\n",
    "    for i in range(N_CHILD//2):\n",
    "        ind1, ind2 = map(toolbox.clone, tools.selRandom(Parent,2))\n",
    "        child1, child2 = tools.cxUniform(ind1, ind2, CROSS_PROB)\n",
    "        for child in [child1, child2]:\n",
    "            Offspring.append(tools.mutESLogNormal(child, 1, MUT_PROB)[0]) # returns tuple so [0]\n",
    "\n",
    "    if g%(MAX_GENS//10) == 0:\n",
    "        print(g//(MAX_GENS//10)*10,end='')\n",
    "    elif g%(MAX_GENS//100) == 0:\n",
    "        print('*',end='')\n",
    "print(100)"
   ]
  },
  {
   "cell_type": "code",
   "execution_count": 6,
   "metadata": {},
   "outputs": [],
   "source": [
    "for ind in Offspring:\n",
    "    ind.fitness.values = evaluate(ind, n_turbs, **kwargs)\n",
    "\n",
    "# selecting the 5 non-dominated individuals\n",
    "dominating = tools.selSPEA2(Offspring, N_ELITE)\n",
    "\n",
    "# adding dominating individuals in Elite\n",
    "Elite_sel = [toolbox.clone(ind) for ind in dominating]\n",
    "Elite.extend(Elite_sel)\n",
    "\n",
    "# reducing the size of Elite\n",
    "Elite = tools.selSPEA2(Elite, N_ELITE)"
   ]
  },
  {
   "cell_type": "code",
   "execution_count": 7,
   "metadata": {
    "tags": []
   },
   "outputs": [
    {
     "output_type": "stream",
     "name": "stdout",
     "text": "(0.9618292063130575, 0.0, 0.0)\n(0.9831236517527789, 0.0, 25405.9517505737)\n(0.987820997529885, 0.0, 49729.7592615792)\n"
    }
   ],
   "source": [
    "for ind in Elite:\n",
    "    print(ind.fitness.values)       # best so far 0.90179671294 (564.85 is idealAEP)"
   ]
  },
  {
   "cell_type": "code",
   "execution_count": 8,
   "metadata": {
    "tags": []
   },
   "outputs": [
    {
     "output_type": "stream",
     "name": "stdout",
     "text": "225.94\n"
    }
   ],
   "source": [
    "print(11.297*n_turbs)"
   ]
  },
  {
   "cell_type": "code",
   "execution_count": 9,
   "metadata": {},
   "outputs": [
    {
     "output_type": "execute_result",
     "data": {
      "text/plain": "0.9443944377414607"
     },
     "metadata": {},
     "execution_count": 9
    }
   ],
   "source": [
    "rand_ind = toolbox.individual()\n",
    "evaluate(rand_ind, n_turbs, **kwargs)[0]"
   ]
  },
  {
   "cell_type": "code",
   "execution_count": 10,
   "metadata": {
    "scrolled": true
   },
   "outputs": [],
   "source": [
    "turb_coords = np.array([[Elite[0][i],Elite[0][i+1]] for i in range(0,2*n_turbs-1,2)])\n",
    "turbines = pd.DataFrame(turb_coords,columns=['x','y'])"
   ]
  },
  {
   "cell_type": "code",
   "execution_count": 11,
   "metadata": {
    "tags": []
   },
   "outputs": [
    {
     "output_type": "stream",
     "name": "stdout",
     "text": "Both perimeter and proximity constraints are satisfied !!\n\n"
    },
    {
     "output_type": "execute_result",
     "data": {
      "text/plain": "()"
     },
     "metadata": {},
     "execution_count": 11
    },
    {
     "output_type": "display_data",
     "data": {
      "text/plain": "<Figure size 432x288 with 1 Axes>",
      "image/svg+xml": "<?xml version=\"1.0\" encoding=\"utf-8\" standalone=\"no\"?>\r\n<!DOCTYPE svg PUBLIC \"-//W3C//DTD SVG 1.1//EN\"\r\n  \"http://www.w3.org/Graphics/SVG/1.1/DTD/svg11.dtd\">\r\n<!-- Created with matplotlib (https://matplotlib.org/) -->\r\n<svg height=\"248.518125pt\" version=\"1.1\" viewBox=\"0 0 386.708007 248.518125\" width=\"386.708007pt\" xmlns=\"http://www.w3.org/2000/svg\" xmlns:xlink=\"http://www.w3.org/1999/xlink\">\r\n <defs>\r\n  <style type=\"text/css\">\r\n*{stroke-linecap:butt;stroke-linejoin:round;}\r\n  </style>\r\n </defs>\r\n <g id=\"figure_1\">\r\n  <g id=\"patch_1\">\r\n   <path d=\"M -0 248.518125 \r\nL 386.708007 248.518125 \r\nL 386.708007 0 \r\nL -0 0 \r\nz\r\n\" style=\"fill:none;\"/>\r\n  </g>\r\n  <g id=\"axes_1\">\r\n   <g id=\"patch_2\">\r\n    <path d=\"M 39.65 224.64 \r\nL 374.45 224.64 \r\nL 374.45 7.2 \r\nL 39.65 7.2 \r\nz\r\n\" style=\"fill:#ffffff;\"/>\r\n   </g>\r\n   <g id=\"PathCollection_1\">\r\n    <defs>\r\n     <path d=\"M 0 3 \r\nC 0.795609 3 1.55874 2.683901 2.12132 2.12132 \r\nC 2.683901 1.55874 3 0.795609 3 0 \r\nC 3 -0.795609 2.683901 -1.55874 2.12132 -2.12132 \r\nC 1.55874 -2.683901 0.795609 -3 0 -3 \r\nC -0.795609 -3 -1.55874 -2.683901 -2.12132 -2.12132 \r\nC -2.683901 -1.55874 -3 -0.795609 -3 0 \r\nC -3 0.795609 -2.683901 1.55874 -2.12132 2.12132 \r\nC -1.55874 2.683901 -0.795609 3 0 3 \r\nz\r\n\" id=\"mc1c99e2784\" style=\"stroke:#1f77b4;\"/>\r\n    </defs>\r\n    <g clip-path=\"url(#p81e92b0a65)\">\r\n     <use style=\"fill:#1f77b4;stroke:#1f77b4;\" x=\"348.714562\" xlink:href=\"#mc1c99e2784\" y=\"160.867114\"/>\r\n     <use style=\"fill:#1f77b4;stroke:#1f77b4;\" x=\"130.348479\" xlink:href=\"#mc1c99e2784\" y=\"20.424174\"/>\r\n     <use style=\"fill:#1f77b4;stroke:#1f77b4;\" x=\"230.65778\" xlink:href=\"#mc1c99e2784\" y=\"28.772597\"/>\r\n     <use style=\"fill:#1f77b4;stroke:#1f77b4;\" x=\"241.834477\" xlink:href=\"#mc1c99e2784\" y=\"174.790503\"/>\r\n     <use style=\"fill:#1f77b4;stroke:#1f77b4;\" x=\"54.868916\" xlink:href=\"#mc1c99e2784\" y=\"53.748219\"/>\r\n     <use style=\"fill:#1f77b4;stroke:#1f77b4;\" x=\"117.321792\" xlink:href=\"#mc1c99e2784\" y=\"135.850935\"/>\r\n     <use style=\"fill:#1f77b4;stroke:#1f77b4;\" x=\"264.452624\" xlink:href=\"#mc1c99e2784\" y=\"65.468839\"/>\r\n     <use style=\"fill:#1f77b4;stroke:#1f77b4;\" x=\"64.380758\" xlink:href=\"#mc1c99e2784\" y=\"130.386179\"/>\r\n     <use style=\"fill:#1f77b4;stroke:#1f77b4;\" x=\"315.733755\" xlink:href=\"#mc1c99e2784\" y=\"135.670593\"/>\r\n     <use style=\"fill:#1f77b4;stroke:#1f77b4;\" x=\"345.965308\" xlink:href=\"#mc1c99e2784\" y=\"72.089211\"/>\r\n     <use style=\"fill:#1f77b4;stroke:#1f77b4;\" x=\"277.417819\" xlink:href=\"#mc1c99e2784\" y=\"109.047654\"/>\r\n     <use style=\"fill:#1f77b4;stroke:#1f77b4;\" x=\"201.872416\" xlink:href=\"#mc1c99e2784\" y=\"214.755624\"/>\r\n     <use style=\"fill:#1f77b4;stroke:#1f77b4;\" x=\"359.231084\" xlink:href=\"#mc1c99e2784\" y=\"46.453802\"/>\r\n     <use style=\"fill:#1f77b4;stroke:#1f77b4;\" x=\"248.985896\" xlink:href=\"#mc1c99e2784\" y=\"208.877017\"/>\r\n     <use style=\"fill:#1f77b4;stroke:#1f77b4;\" x=\"66.195132\" xlink:href=\"#mc1c99e2784\" y=\"207.271363\"/>\r\n     <use style=\"fill:#1f77b4;stroke:#1f77b4;\" x=\"328.351657\" xlink:href=\"#mc1c99e2784\" y=\"193.498851\"/>\r\n     <use style=\"fill:#1f77b4;stroke:#1f77b4;\" x=\"207.664202\" xlink:href=\"#mc1c99e2784\" y=\"155.139567\"/>\r\n     <use style=\"fill:#1f77b4;stroke:#1f77b4;\" x=\"331.19729\" xlink:href=\"#mc1c99e2784\" y=\"107.482075\"/>\r\n     <use style=\"fill:#1f77b4;stroke:#1f77b4;\" x=\"160.817924\" xlink:href=\"#mc1c99e2784\" y=\"117.576249\"/>\r\n     <use style=\"fill:#1f77b4;stroke:#1f77b4;\" x=\"65.808055\" xlink:href=\"#mc1c99e2784\" y=\"17.084376\"/>\r\n    </g>\r\n   </g>\r\n   <g id=\"matplotlib.axis_1\">\r\n    <g id=\"xtick_1\">\r\n     <g id=\"line2d_1\">\r\n      <defs>\r\n       <path d=\"M 0 0 \r\nL 0 3.5 \r\n\" id=\"mfe125fb49d\" style=\"stroke:#000000;stroke-width:0.8;\"/>\r\n      </defs>\r\n      <g>\r\n       <use style=\"stroke:#000000;stroke-width:0.8;\" x=\"79.935615\" xlink:href=\"#mfe125fb49d\" y=\"224.64\"/>\r\n      </g>\r\n     </g>\r\n     <g id=\"text_1\">\r\n      <!-- 500 -->\r\n      <defs>\r\n       <path d=\"M 10.796875 72.90625 \r\nL 49.515625 72.90625 \r\nL 49.515625 64.59375 \r\nL 19.828125 64.59375 \r\nL 19.828125 46.734375 \r\nQ 21.96875 47.46875 24.109375 47.828125 \r\nQ 26.265625 48.1875 28.421875 48.1875 \r\nQ 40.625 48.1875 47.75 41.5 \r\nQ 54.890625 34.8125 54.890625 23.390625 \r\nQ 54.890625 11.625 47.5625 5.09375 \r\nQ 40.234375 -1.421875 26.90625 -1.421875 \r\nQ 22.3125 -1.421875 17.546875 -0.640625 \r\nQ 12.796875 0.140625 7.71875 1.703125 \r\nL 7.71875 11.625 \r\nQ 12.109375 9.234375 16.796875 8.0625 \r\nQ 21.484375 6.890625 26.703125 6.890625 \r\nQ 35.15625 6.890625 40.078125 11.328125 \r\nQ 45.015625 15.765625 45.015625 23.390625 \r\nQ 45.015625 31 40.078125 35.4375 \r\nQ 35.15625 39.890625 26.703125 39.890625 \r\nQ 22.75 39.890625 18.8125 39.015625 \r\nQ 14.890625 38.140625 10.796875 36.28125 \r\nz\r\n\" id=\"DejaVuSans-53\"/>\r\n       <path d=\"M 31.78125 66.40625 \r\nQ 24.171875 66.40625 20.328125 58.90625 \r\nQ 16.5 51.421875 16.5 36.375 \r\nQ 16.5 21.390625 20.328125 13.890625 \r\nQ 24.171875 6.390625 31.78125 6.390625 \r\nQ 39.453125 6.390625 43.28125 13.890625 \r\nQ 47.125 21.390625 47.125 36.375 \r\nQ 47.125 51.421875 43.28125 58.90625 \r\nQ 39.453125 66.40625 31.78125 66.40625 \r\nz\r\nM 31.78125 74.21875 \r\nQ 44.046875 74.21875 50.515625 64.515625 \r\nQ 56.984375 54.828125 56.984375 36.375 \r\nQ 56.984375 17.96875 50.515625 8.265625 \r\nQ 44.046875 -1.421875 31.78125 -1.421875 \r\nQ 19.53125 -1.421875 13.0625 8.265625 \r\nQ 6.59375 17.96875 6.59375 36.375 \r\nQ 6.59375 54.828125 13.0625 64.515625 \r\nQ 19.53125 74.21875 31.78125 74.21875 \r\nz\r\n\" id=\"DejaVuSans-48\"/>\r\n      </defs>\r\n      <g transform=\"translate(70.391865 239.238437)scale(0.1 -0.1)\">\r\n       <use xlink:href=\"#DejaVuSans-53\"/>\r\n       <use x=\"63.623047\" xlink:href=\"#DejaVuSans-48\"/>\r\n       <use x=\"127.246094\" xlink:href=\"#DejaVuSans-48\"/>\r\n      </g>\r\n     </g>\r\n    </g>\r\n    <g id=\"xtick_2\">\r\n     <g id=\"line2d_2\">\r\n      <g>\r\n       <use style=\"stroke:#000000;stroke-width:0.8;\" x=\"120.913813\" xlink:href=\"#mfe125fb49d\" y=\"224.64\"/>\r\n      </g>\r\n     </g>\r\n     <g id=\"text_2\">\r\n      <!-- 1000 -->\r\n      <defs>\r\n       <path d=\"M 12.40625 8.296875 \r\nL 28.515625 8.296875 \r\nL 28.515625 63.921875 \r\nL 10.984375 60.40625 \r\nL 10.984375 69.390625 \r\nL 28.421875 72.90625 \r\nL 38.28125 72.90625 \r\nL 38.28125 8.296875 \r\nL 54.390625 8.296875 \r\nL 54.390625 0 \r\nL 12.40625 0 \r\nz\r\n\" id=\"DejaVuSans-49\"/>\r\n      </defs>\r\n      <g transform=\"translate(108.188813 239.238437)scale(0.1 -0.1)\">\r\n       <use xlink:href=\"#DejaVuSans-49\"/>\r\n       <use x=\"63.623047\" xlink:href=\"#DejaVuSans-48\"/>\r\n       <use x=\"127.246094\" xlink:href=\"#DejaVuSans-48\"/>\r\n       <use x=\"190.869141\" xlink:href=\"#DejaVuSans-48\"/>\r\n      </g>\r\n     </g>\r\n    </g>\r\n    <g id=\"xtick_3\">\r\n     <g id=\"line2d_3\">\r\n      <g>\r\n       <use style=\"stroke:#000000;stroke-width:0.8;\" x=\"161.892012\" xlink:href=\"#mfe125fb49d\" y=\"224.64\"/>\r\n      </g>\r\n     </g>\r\n     <g id=\"text_3\">\r\n      <!-- 1500 -->\r\n      <g transform=\"translate(149.167012 239.238437)scale(0.1 -0.1)\">\r\n       <use xlink:href=\"#DejaVuSans-49\"/>\r\n       <use x=\"63.623047\" xlink:href=\"#DejaVuSans-53\"/>\r\n       <use x=\"127.246094\" xlink:href=\"#DejaVuSans-48\"/>\r\n       <use x=\"190.869141\" xlink:href=\"#DejaVuSans-48\"/>\r\n      </g>\r\n     </g>\r\n    </g>\r\n    <g id=\"xtick_4\">\r\n     <g id=\"line2d_4\">\r\n      <g>\r\n       <use style=\"stroke:#000000;stroke-width:0.8;\" x=\"202.870211\" xlink:href=\"#mfe125fb49d\" y=\"224.64\"/>\r\n      </g>\r\n     </g>\r\n     <g id=\"text_4\">\r\n      <!-- 2000 -->\r\n      <defs>\r\n       <path d=\"M 19.1875 8.296875 \r\nL 53.609375 8.296875 \r\nL 53.609375 0 \r\nL 7.328125 0 \r\nL 7.328125 8.296875 \r\nQ 12.9375 14.109375 22.625 23.890625 \r\nQ 32.328125 33.6875 34.8125 36.53125 \r\nQ 39.546875 41.84375 41.421875 45.53125 \r\nQ 43.3125 49.21875 43.3125 52.78125 \r\nQ 43.3125 58.59375 39.234375 62.25 \r\nQ 35.15625 65.921875 28.609375 65.921875 \r\nQ 23.96875 65.921875 18.8125 64.3125 \r\nQ 13.671875 62.703125 7.8125 59.421875 \r\nL 7.8125 69.390625 \r\nQ 13.765625 71.78125 18.9375 73 \r\nQ 24.125 74.21875 28.421875 74.21875 \r\nQ 39.75 74.21875 46.484375 68.546875 \r\nQ 53.21875 62.890625 53.21875 53.421875 \r\nQ 53.21875 48.921875 51.53125 44.890625 \r\nQ 49.859375 40.875 45.40625 35.40625 \r\nQ 44.1875 33.984375 37.640625 27.21875 \r\nQ 31.109375 20.453125 19.1875 8.296875 \r\nz\r\n\" id=\"DejaVuSans-50\"/>\r\n      </defs>\r\n      <g transform=\"translate(190.145211 239.238437)scale(0.1 -0.1)\">\r\n       <use xlink:href=\"#DejaVuSans-50\"/>\r\n       <use x=\"63.623047\" xlink:href=\"#DejaVuSans-48\"/>\r\n       <use x=\"127.246094\" xlink:href=\"#DejaVuSans-48\"/>\r\n       <use x=\"190.869141\" xlink:href=\"#DejaVuSans-48\"/>\r\n      </g>\r\n     </g>\r\n    </g>\r\n    <g id=\"xtick_5\">\r\n     <g id=\"line2d_5\">\r\n      <g>\r\n       <use style=\"stroke:#000000;stroke-width:0.8;\" x=\"243.84841\" xlink:href=\"#mfe125fb49d\" y=\"224.64\"/>\r\n      </g>\r\n     </g>\r\n     <g id=\"text_5\">\r\n      <!-- 2500 -->\r\n      <g transform=\"translate(231.12341 239.238437)scale(0.1 -0.1)\">\r\n       <use xlink:href=\"#DejaVuSans-50\"/>\r\n       <use x=\"63.623047\" xlink:href=\"#DejaVuSans-53\"/>\r\n       <use x=\"127.246094\" xlink:href=\"#DejaVuSans-48\"/>\r\n       <use x=\"190.869141\" xlink:href=\"#DejaVuSans-48\"/>\r\n      </g>\r\n     </g>\r\n    </g>\r\n    <g id=\"xtick_6\">\r\n     <g id=\"line2d_6\">\r\n      <g>\r\n       <use style=\"stroke:#000000;stroke-width:0.8;\" x=\"284.826609\" xlink:href=\"#mfe125fb49d\" y=\"224.64\"/>\r\n      </g>\r\n     </g>\r\n     <g id=\"text_6\">\r\n      <!-- 3000 -->\r\n      <defs>\r\n       <path d=\"M 40.578125 39.3125 \r\nQ 47.65625 37.796875 51.625 33 \r\nQ 55.609375 28.21875 55.609375 21.1875 \r\nQ 55.609375 10.40625 48.1875 4.484375 \r\nQ 40.765625 -1.421875 27.09375 -1.421875 \r\nQ 22.515625 -1.421875 17.65625 -0.515625 \r\nQ 12.796875 0.390625 7.625 2.203125 \r\nL 7.625 11.71875 \r\nQ 11.71875 9.328125 16.59375 8.109375 \r\nQ 21.484375 6.890625 26.8125 6.890625 \r\nQ 36.078125 6.890625 40.9375 10.546875 \r\nQ 45.796875 14.203125 45.796875 21.1875 \r\nQ 45.796875 27.640625 41.28125 31.265625 \r\nQ 36.765625 34.90625 28.71875 34.90625 \r\nL 20.21875 34.90625 \r\nL 20.21875 43.015625 \r\nL 29.109375 43.015625 \r\nQ 36.375 43.015625 40.234375 45.921875 \r\nQ 44.09375 48.828125 44.09375 54.296875 \r\nQ 44.09375 59.90625 40.109375 62.90625 \r\nQ 36.140625 65.921875 28.71875 65.921875 \r\nQ 24.65625 65.921875 20.015625 65.03125 \r\nQ 15.375 64.15625 9.8125 62.3125 \r\nL 9.8125 71.09375 \r\nQ 15.4375 72.65625 20.34375 73.4375 \r\nQ 25.25 74.21875 29.59375 74.21875 \r\nQ 40.828125 74.21875 47.359375 69.109375 \r\nQ 53.90625 64.015625 53.90625 55.328125 \r\nQ 53.90625 49.265625 50.4375 45.09375 \r\nQ 46.96875 40.921875 40.578125 39.3125 \r\nz\r\n\" id=\"DejaVuSans-51\"/>\r\n      </defs>\r\n      <g transform=\"translate(272.101609 239.238437)scale(0.1 -0.1)\">\r\n       <use xlink:href=\"#DejaVuSans-51\"/>\r\n       <use x=\"63.623047\" xlink:href=\"#DejaVuSans-48\"/>\r\n       <use x=\"127.246094\" xlink:href=\"#DejaVuSans-48\"/>\r\n       <use x=\"190.869141\" xlink:href=\"#DejaVuSans-48\"/>\r\n      </g>\r\n     </g>\r\n    </g>\r\n    <g id=\"xtick_7\">\r\n     <g id=\"line2d_7\">\r\n      <g>\r\n       <use style=\"stroke:#000000;stroke-width:0.8;\" x=\"325.804808\" xlink:href=\"#mfe125fb49d\" y=\"224.64\"/>\r\n      </g>\r\n     </g>\r\n     <g id=\"text_7\">\r\n      <!-- 3500 -->\r\n      <g transform=\"translate(313.079808 239.238437)scale(0.1 -0.1)\">\r\n       <use xlink:href=\"#DejaVuSans-51\"/>\r\n       <use x=\"63.623047\" xlink:href=\"#DejaVuSans-53\"/>\r\n       <use x=\"127.246094\" xlink:href=\"#DejaVuSans-48\"/>\r\n       <use x=\"190.869141\" xlink:href=\"#DejaVuSans-48\"/>\r\n      </g>\r\n     </g>\r\n    </g>\r\n    <g id=\"xtick_8\">\r\n     <g id=\"line2d_8\">\r\n      <g>\r\n       <use style=\"stroke:#000000;stroke-width:0.8;\" x=\"366.783007\" xlink:href=\"#mfe125fb49d\" y=\"224.64\"/>\r\n      </g>\r\n     </g>\r\n     <g id=\"text_8\">\r\n      <!-- 4000 -->\r\n      <defs>\r\n       <path d=\"M 37.796875 64.3125 \r\nL 12.890625 25.390625 \r\nL 37.796875 25.390625 \r\nz\r\nM 35.203125 72.90625 \r\nL 47.609375 72.90625 \r\nL 47.609375 25.390625 \r\nL 58.015625 25.390625 \r\nL 58.015625 17.1875 \r\nL 47.609375 17.1875 \r\nL 47.609375 0 \r\nL 37.796875 0 \r\nL 37.796875 17.1875 \r\nL 4.890625 17.1875 \r\nL 4.890625 26.703125 \r\nz\r\n\" id=\"DejaVuSans-52\"/>\r\n      </defs>\r\n      <g transform=\"translate(354.058007 239.238437)scale(0.1 -0.1)\">\r\n       <use xlink:href=\"#DejaVuSans-52\"/>\r\n       <use x=\"63.623047\" xlink:href=\"#DejaVuSans-48\"/>\r\n       <use x=\"127.246094\" xlink:href=\"#DejaVuSans-48\"/>\r\n       <use x=\"190.869141\" xlink:href=\"#DejaVuSans-48\"/>\r\n      </g>\r\n     </g>\r\n    </g>\r\n   </g>\r\n   <g id=\"matplotlib.axis_2\">\r\n    <g id=\"ytick_1\">\r\n     <g id=\"line2d_9\">\r\n      <defs>\r\n       <path d=\"M 0 0 \r\nL -3.5 0 \r\n\" id=\"m14af65c0ac\" style=\"stroke:#000000;stroke-width:0.8;\"/>\r\n      </defs>\r\n      <g>\r\n       <use style=\"stroke:#000000;stroke-width:0.8;\" x=\"39.65\" xlink:href=\"#m14af65c0ac\" y=\"201.099361\"/>\r\n      </g>\r\n     </g>\r\n     <g id=\"text_9\">\r\n      <!-- 500 -->\r\n      <g transform=\"translate(13.5625 204.898579)scale(0.1 -0.1)\">\r\n       <use xlink:href=\"#DejaVuSans-53\"/>\r\n       <use x=\"63.623047\" xlink:href=\"#DejaVuSans-48\"/>\r\n       <use x=\"127.246094\" xlink:href=\"#DejaVuSans-48\"/>\r\n      </g>\r\n     </g>\r\n    </g>\r\n    <g id=\"ytick_2\">\r\n     <g id=\"line2d_10\">\r\n      <g>\r\n       <use style=\"stroke:#000000;stroke-width:0.8;\" x=\"39.65\" xlink:href=\"#m14af65c0ac\" y=\"174.303385\"/>\r\n      </g>\r\n     </g>\r\n     <g id=\"text_10\">\r\n      <!-- 1000 -->\r\n      <g transform=\"translate(7.2 178.102604)scale(0.1 -0.1)\">\r\n       <use xlink:href=\"#DejaVuSans-49\"/>\r\n       <use x=\"63.623047\" xlink:href=\"#DejaVuSans-48\"/>\r\n       <use x=\"127.246094\" xlink:href=\"#DejaVuSans-48\"/>\r\n       <use x=\"190.869141\" xlink:href=\"#DejaVuSans-48\"/>\r\n      </g>\r\n     </g>\r\n    </g>\r\n    <g id=\"ytick_3\">\r\n     <g id=\"line2d_11\">\r\n      <g>\r\n       <use style=\"stroke:#000000;stroke-width:0.8;\" x=\"39.65\" xlink:href=\"#m14af65c0ac\" y=\"147.507409\"/>\r\n      </g>\r\n     </g>\r\n     <g id=\"text_11\">\r\n      <!-- 1500 -->\r\n      <g transform=\"translate(7.2 151.306628)scale(0.1 -0.1)\">\r\n       <use xlink:href=\"#DejaVuSans-49\"/>\r\n       <use x=\"63.623047\" xlink:href=\"#DejaVuSans-53\"/>\r\n       <use x=\"127.246094\" xlink:href=\"#DejaVuSans-48\"/>\r\n       <use x=\"190.869141\" xlink:href=\"#DejaVuSans-48\"/>\r\n      </g>\r\n     </g>\r\n    </g>\r\n    <g id=\"ytick_4\">\r\n     <g id=\"line2d_12\">\r\n      <g>\r\n       <use style=\"stroke:#000000;stroke-width:0.8;\" x=\"39.65\" xlink:href=\"#m14af65c0ac\" y=\"120.711434\"/>\r\n      </g>\r\n     </g>\r\n     <g id=\"text_12\">\r\n      <!-- 2000 -->\r\n      <g transform=\"translate(7.2 124.510652)scale(0.1 -0.1)\">\r\n       <use xlink:href=\"#DejaVuSans-50\"/>\r\n       <use x=\"63.623047\" xlink:href=\"#DejaVuSans-48\"/>\r\n       <use x=\"127.246094\" xlink:href=\"#DejaVuSans-48\"/>\r\n       <use x=\"190.869141\" xlink:href=\"#DejaVuSans-48\"/>\r\n      </g>\r\n     </g>\r\n    </g>\r\n    <g id=\"ytick_5\">\r\n     <g id=\"line2d_13\">\r\n      <g>\r\n       <use style=\"stroke:#000000;stroke-width:0.8;\" x=\"39.65\" xlink:href=\"#m14af65c0ac\" y=\"93.915458\"/>\r\n      </g>\r\n     </g>\r\n     <g id=\"text_13\">\r\n      <!-- 2500 -->\r\n      <g transform=\"translate(7.2 97.714677)scale(0.1 -0.1)\">\r\n       <use xlink:href=\"#DejaVuSans-50\"/>\r\n       <use x=\"63.623047\" xlink:href=\"#DejaVuSans-53\"/>\r\n       <use x=\"127.246094\" xlink:href=\"#DejaVuSans-48\"/>\r\n       <use x=\"190.869141\" xlink:href=\"#DejaVuSans-48\"/>\r\n      </g>\r\n     </g>\r\n    </g>\r\n    <g id=\"ytick_6\">\r\n     <g id=\"line2d_14\">\r\n      <g>\r\n       <use style=\"stroke:#000000;stroke-width:0.8;\" x=\"39.65\" xlink:href=\"#m14af65c0ac\" y=\"67.119482\"/>\r\n      </g>\r\n     </g>\r\n     <g id=\"text_14\">\r\n      <!-- 3000 -->\r\n      <g transform=\"translate(7.2 70.918701)scale(0.1 -0.1)\">\r\n       <use xlink:href=\"#DejaVuSans-51\"/>\r\n       <use x=\"63.623047\" xlink:href=\"#DejaVuSans-48\"/>\r\n       <use x=\"127.246094\" xlink:href=\"#DejaVuSans-48\"/>\r\n       <use x=\"190.869141\" xlink:href=\"#DejaVuSans-48\"/>\r\n      </g>\r\n     </g>\r\n    </g>\r\n    <g id=\"ytick_7\">\r\n     <g id=\"line2d_15\">\r\n      <g>\r\n       <use style=\"stroke:#000000;stroke-width:0.8;\" x=\"39.65\" xlink:href=\"#m14af65c0ac\" y=\"40.323507\"/>\r\n      </g>\r\n     </g>\r\n     <g id=\"text_15\">\r\n      <!-- 3500 -->\r\n      <g transform=\"translate(7.2 44.122725)scale(0.1 -0.1)\">\r\n       <use xlink:href=\"#DejaVuSans-51\"/>\r\n       <use x=\"63.623047\" xlink:href=\"#DejaVuSans-53\"/>\r\n       <use x=\"127.246094\" xlink:href=\"#DejaVuSans-48\"/>\r\n       <use x=\"190.869141\" xlink:href=\"#DejaVuSans-48\"/>\r\n      </g>\r\n     </g>\r\n    </g>\r\n    <g id=\"ytick_8\">\r\n     <g id=\"line2d_16\">\r\n      <g>\r\n       <use style=\"stroke:#000000;stroke-width:0.8;\" x=\"39.65\" xlink:href=\"#m14af65c0ac\" y=\"13.527531\"/>\r\n      </g>\r\n     </g>\r\n     <g id=\"text_16\">\r\n      <!-- 4000 -->\r\n      <g transform=\"translate(7.2 17.32675)scale(0.1 -0.1)\">\r\n       <use xlink:href=\"#DejaVuSans-52\"/>\r\n       <use x=\"63.623047\" xlink:href=\"#DejaVuSans-48\"/>\r\n       <use x=\"127.246094\" xlink:href=\"#DejaVuSans-48\"/>\r\n       <use x=\"190.869141\" xlink:href=\"#DejaVuSans-48\"/>\r\n      </g>\r\n     </g>\r\n    </g>\r\n   </g>\r\n   <g id=\"patch_3\">\r\n    <path d=\"M 39.65 224.64 \r\nL 39.65 7.2 \r\n\" style=\"fill:none;stroke:#000000;stroke-linecap:square;stroke-linejoin:miter;stroke-width:0.8;\"/>\r\n   </g>\r\n   <g id=\"patch_4\">\r\n    <path d=\"M 374.45 224.64 \r\nL 374.45 7.2 \r\n\" style=\"fill:none;stroke:#000000;stroke-linecap:square;stroke-linejoin:miter;stroke-width:0.8;\"/>\r\n   </g>\r\n   <g id=\"patch_5\">\r\n    <path d=\"M 39.65 224.64 \r\nL 374.45 224.64 \r\n\" style=\"fill:none;stroke:#000000;stroke-linecap:square;stroke-linejoin:miter;stroke-width:0.8;\"/>\r\n   </g>\r\n   <g id=\"patch_6\">\r\n    <path d=\"M 39.65 7.2 \r\nL 374.45 7.2 \r\n\" style=\"fill:none;stroke:#000000;stroke-linecap:square;stroke-linejoin:miter;stroke-width:0.8;\"/>\r\n   </g>\r\n  </g>\r\n </g>\r\n <defs>\r\n  <clipPath id=\"p81e92b0a65\">\r\n   <rect height=\"217.44\" width=\"334.8\" x=\"39.65\" y=\"7.2\"/>\r\n  </clipPath>\r\n </defs>\r\n</svg>\r\n",
      "image/png": "[encoded data removed]"
     },
     "metadata": {
      "needs_background": "light"
     }
    }
   ],
   "source": [
    "import matplotlib.pyplot as plt\n",
    "%matplotlib inline\n",
    "plt.scatter(turb_coords[:,0],turb_coords[:,1])\n",
    "checkConstraints(turb_coords,100.0)"
   ]
  },
  {
   "cell_type": "code",
   "execution_count": 12,
   "metadata": {},
   "outputs": [],
   "source": [
    "# turbines.to_csv(\"C:/Users/awals/Downloads/Shell AI Hackathon/Wind Farm Evaluator/my_trials/second_deap_ans.csv\",index=False)"
   ]
  }
 ],
 "metadata": {
  "kernelspec": {
   "display_name": "Python 3.7.7 64-bit ('dsenv': conda)",
   "language": "python",
   "name": "python37764bitdsenvconda789706d0dc444dadb284d7d6b95e5ae4"
  },
  "language_info": {
   "codemirror_mode": {
    "name": "ipython",
    "version": 3
   },
   "file_extension": ".py",
   "mimetype": "text/x-python",
   "name": "python",
   "nbconvert_exporter": "python",
   "pygments_lexer": "ipython3",
   "version": "3.7.7-final"
  }
 },
 "nbformat": 4,
 "nbformat_minor": 2
}